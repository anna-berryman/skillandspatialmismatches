{
 "cells": [
  {
   "cell_type": "markdown",
   "metadata": {},
   "source": [
    "Notebook for the paper 'Skill and spatial mismatches for sustainable development in Brazil' 2025\n"
   ]
  },
  {
   "cell_type": "code",
   "execution_count": null,
   "metadata": {},
   "outputs": [],
   "source": [
    "import numpy as np\n",
    "import pandas as pd\n",
    "import matplotlib.pyplot as plt\n",
    "import re\n",
    "import matplotlib as mpl\n",
    "# import geopandas as gpd"
   ]
  },
  {
   "cell_type": "code",
   "execution_count": null,
   "metadata": {},
   "outputs": [],
   "source": [
    "data_path = 'data/'"
   ]
  },
  {
   "cell_type": "code",
   "execution_count": null,
   "metadata": {},
   "outputs": [],
   "source": [
    "## omng with only CC component and non-0 2018-emp has 6496 occ-reg pairs\n",
    "omng_df = pd.read_csv(data_path+'omng_merged_connected_component.csv', dtype = {'Unnamed: 0': np.str_}\n",
    "                     ).rename(columns={'Unnamed: 0': ''}).set_index('')\n",
    "omng_df.head()"
   ]
  },
  {
   "cell_type": "code",
   "execution_count": null,
   "metadata": {},
   "outputs": [],
   "source": [
    "scenarios = ['Cen2BAseq', 'Cen2Aseq', 'Cen5Aseq']"
   ]
  },
  {
   "cell_type": "code",
   "execution_count": null,
   "metadata": {},
   "outputs": [],
   "source": [
    "scenario_dict = {scn: pd.read_csv(data_path+scn+'scenario_dict_mcc.csv', index_col='Unnamed: 0') \n",
    "                 for scn in scenarios}"
   ]
  },
  {
   "cell_type": "code",
   "execution_count": null,
   "metadata": {},
   "outputs": [],
   "source": [
    "scenario_dict['Cen2BAseq']"
   ]
  },
  {
   "cell_type": "code",
   "execution_count": null,
   "metadata": {},
   "outputs": [],
   "source": [
    "cbo_occ_titles_merge1 = pd.read_csv(data_path+'merged_names_408.csv', index_col='Unnamed: 0')"
   ]
  },
  {
   "cell_type": "code",
   "execution_count": null,
   "metadata": {},
   "outputs": [],
   "source": [
    "cbo_occ_titles_merge1.loc[-1] = ['0XXX', 'Military workers']  # adding a row\n",
    "cbo_occ_titles_merge1.index = cbo_occ_titles_merge1.index + 1  # shifting index\n",
    "cbo_occ_titles_merge1 = cbo_occ_titles_merge1.sort_index()  # sorting by index\n",
    "    \n",
    "cbo_occ_titles_merge1.head()"
   ]
  },
  {
   "cell_type": "code",
   "execution_count": null,
   "metadata": {},
   "outputs": [],
   "source": [
    "years = scenario_dict['Cen2BAseq'].index\n",
    "regions = list(np.unique([occ[4:] for occ in scenario_dict['Cen2BAseq'].columns]))\n",
    "\n",
    "occs = list(set([occ[:4] for occ in omng_df.columns]))\n",
    "occs.sort() ## military occupations removed\n",
    "\n",
    "len(occs)\n",
    "\n",
    "occs_regions_list = omng_df.columns\n",
    "\n",
    "scn_labels = {scn: name for scn, name in zip(scenarios, ['Baseline', 'Agriculture growth path', \n",
    "                                                         'Manufacturing growth path',\n",
    "                                                        ])}"
   ]
  },
  {
   "cell_type": "code",
   "execution_count": null,
   "metadata": {},
   "outputs": [],
   "source": [
    "yr_sums = {scn: scenario_dict[scn].sum(axis=1) for scn in scenarios}"
   ]
  },
  {
   "cell_type": "code",
   "execution_count": null,
   "metadata": {},
   "outputs": [],
   "source": [
    "scenario_dict_norm_to_bl = {}\n",
    "L = scenario_dict['Cen2BAseq'].sum(axis=1)[2018]\n",
    "# # L = L*1.0165\n",
    "for scn in scenarios:\n",
    "    scenario_dict_norm_to_bl[scn] = (scenario_dict[scn].div(\n",
    "                                        scenario_dict['Cen2BAseq'].sum(axis=1), axis=0))*L\n",
    "    "
   ]
  },
  {
   "cell_type": "code",
   "execution_count": null,
   "metadata": {},
   "outputs": [],
   "source": [
    "yr_sums_norm_to_bl = {scn: scenario_dict_norm_to_bl[scn].sum(axis=1) for scn in scenarios}"
   ]
  },
  {
   "cell_type": "code",
   "execution_count": null,
   "metadata": {},
   "outputs": [],
   "source": [
    "scn = 'Cen2BAseq'\n",
    "employment = np.array(scenario_dict_norm_to_bl[scn].loc[2018].values, dtype=np.float64)\n",
    "# wage = np.random.rand(n)*1e5\n",
    "print(len(employment))"
   ]
  },
  {
   "cell_type": "code",
   "execution_count": null,
   "metadata": {},
   "outputs": [],
   "source": [
    "large_occs = list(np.where(employment>= 0)[0])"
   ]
  },
  {
   "cell_type": "code",
   "execution_count": null,
   "metadata": {},
   "outputs": [],
   "source": [
    "def make_F_networks(T_networks):\n",
    "    '''makes a list of flow adjacency matrices based on a list\n",
    "    of Transitions matrices\n",
    "    '''\n",
    "    # create list where adjacency matrix will be appended\n",
    "    L_networks = []\n",
    "    for i, T in enumerate(T_networks):\n",
    "        # if there were no out transitions just set flow equal to zero\n",
    "        with np.errstate(divide='ignore', invalid='ignore'):\n",
    "            F = T/T.sum(axis=1, keepdims=True)\n",
    "        F[np.isnan(F)] = 0\n",
    "        L_networks.append(F)\n",
    "        \n",
    "    return L_networks"
   ]
  },
  {
   "cell_type": "code",
   "execution_count": null,
   "metadata": {},
   "outputs": [],
   "source": [
    "δ_u = 0.016\n",
    "δ_v = 0.012\n",
    "γ_u = 10*δ_u\n",
    "γ_v = γ_u\n",
    "τ = 7 # time steps after which worker is long-term unemployed\n",
    "\n",
    "# occupational mobility network\n",
    "T_omn = np.array(omng_df)\n",
    "A_omn = make_F_networks([T_omn])[0]\n",
    "n = T_omn.shape[0]\n",
    "# A_omn = add_self_loops(A_omn, r)\n",
    "# complete network\n",
    "A_kn = np.ones([n,n])/n\n",
    "\n",
    "# shock and time conditions\n",
    "# NOTE one time step ~ 4 weeks\n",
    "# t_shock = 200 + (9 * 52/4) # time at which shock starts i.e. end of 2018\n",
    "t_shock = 20 * 52/4 # time at which shock starts i.e. end of 2018\n",
    "t_simulation = 500\n",
    "shock_duration = 12 * 52/4\n",
    "time_array = [t*4/52 for t in range(t_simulation)]"
   ]
  },
  {
   "cell_type": "code",
   "execution_count": null,
   "metadata": {},
   "outputs": [],
   "source": [
    "# initial employment + vacancies = 2018 demand from CGE model\n",
    "employment_0 = (1-δ_v)*employment[:]\n",
    "unemployment_0 = δ_u * employment_0\n",
    "vacancies_0 = δ_v * employment_0\n",
    "# labor force is all workers, employed + unemployed\n",
    "L = np.sum(employment_0 + unemployment_0)\n",
    "\n",
    "# initial demand and target demand\n",
    "D_0 = employment_0 + vacancies_0"
   ]
  },
  {
   "cell_type": "code",
   "execution_count": null,
   "metadata": {},
   "outputs": [],
   "source": [
    "def target_demand_piecewise_linear(t, d_0, scn_dict, scn=scn, t_shock=195, shock_duration=12*(52/4)):\n",
    "    \"\"\"function that creates numpy array of monthly target demand for each occupation\n",
    "    Args: \n",
    "        scenario: pandasDataFrame\n",
    "    Returns:\n",
    "        d_dagger: demand of occupation at time t\"\"\"\n",
    "    if t < t_shock:\n",
    "        return d_0\n",
    "    elif t < t_shock+shock_duration:\n",
    "        month = t % 13\n",
    "        \n",
    "        cur_yr = int(2019 + np.floor((t-t_shock) / (52/4)))\n",
    "        # spread increase from cur_yr-1 to cur_yr over the 13 4-week periods\n",
    "#         print(cur_yr)\n",
    "        four_wk_change = (scn_dict[scn].loc[cur_yr]-scn_dict[scn].loc[cur_yr-1])/(52/4)\n",
    "        \n",
    "        d_dagger = np.array(scn_dict[scn].loc[cur_yr-1], dtype=np.float64\n",
    "                           )+(np.array(four_wk_change, dtype=np.float64)*month)\n",
    "        return d_dagger\n",
    "    else:\n",
    "        d_dagger = np.array(scn_dict[scn].loc[2030], dtype=np.float64)\n",
    "        return d_dagger"
   ]
  },
  {
   "cell_type": "code",
   "execution_count": null,
   "metadata": {},
   "outputs": [],
   "source": [
    "def percentage_change_u_to_baseline(E, U, E_b, U_b, time_start_1, time_end_1):\n",
    "    u_scn_num = period_occ_u_rate(E, U, time_start_1, time_end_1)\n",
    "    u_baseline_num = period_occ_u_rate(E_b, U_b, time_start_1, time_end_1)\n",
    "    return np.array(100*(u_scn_num-u_baseline_num) / u_baseline_num)\n",
    "def period_occ_u_rate(E, U, time_start, time_end):\n",
    "        \"\"\" gives the period unemployment rate of an occupation\n",
    "        E: employment rate of occupation per time\n",
    "        U: unemployment rate of occupation per time\n",
    "        time_start(int): time from which the average starts\n",
    "        time_end(int): time from which the average ends\n",
    "        \"\"\"\n",
    "        e = E[time_start:time_end, :]\n",
    "        u = U[time_start:time_end, :]\n",
    "        return 100*sum(u) / sum(e + u)\n",
    "def percentage_POINT_change_u_to_baseline(E, U, E_b, U_b, time_start_1, time_end_1):\n",
    "    u_scn_num = period_occ_u_rate(E, U, time_start_1, time_end_1)\n",
    "    u_baseline_num = period_occ_u_rate(E_b, U_b, time_start_1, time_end_1)\n",
    "    return u_scn_num - u_baseline_num"
   ]
  },
  {
   "cell_type": "code",
   "execution_count": null,
   "metadata": {},
   "outputs": [],
   "source": [
    "def percentage_change_u(E, U, time_start_1, time_end_1, time_start_2, time_end_2):\n",
    "    u_rate_start = period_occ_u_rate(E, U, time_start_1, time_end_1)\n",
    "    u_rate_end = period_occ_u_rate(E, U, time_start_2, time_end_2)\n",
    "    return np.array(100*(u_rate_end-u_rate_start) / u_rate_start)\n",
    "def percentage_POINT_change_u(E, U, time_start_1, time_end_1, time_start_2, time_end_2):\n",
    "    u_rate_start = period_occ_u_rate(E, U, time_start_1, time_end_1)\n",
    "    u_rate_end = period_occ_u_rate(E, U, time_start_2, time_end_2)\n",
    "    return u_rate_end - u_rate_start"
   ]
  },
  {
   "cell_type": "code",
   "execution_count": null,
   "metadata": {},
   "outputs": [],
   "source": [
    "occ_titles_dict = {row['CODE']: row['TITLE'] for idx, row \n",
    "                   in cbo_occ_titles_merge1.iterrows()}"
   ]
  },
  {
   "cell_type": "code",
   "execution_count": null,
   "metadata": {},
   "outputs": [],
   "source": [
    "def u_longterm_from_jobspell(U_ltm, τ):\n",
    "    return np.sum(U_ltm[:, τ-1:, :], axis=1)"
   ]
  },
  {
   "cell_type": "code",
   "execution_count": null,
   "metadata": {},
   "outputs": [],
   "source": [
    "## agent-based model import\n",
    "import labornet as lbn"
   ]
  },
  {
   "cell_type": "code",
   "execution_count": null,
   "metadata": {},
   "outputs": [],
   "source": [
    "## create 'geog_results' folder in your data_path folder"
   ]
  },
  {
   "cell_type": "code",
   "execution_count": null,
   "metadata": {
    "scrolled": true
   },
   "outputs": [],
   "source": [
    "# results_dict_norm_to_bl = {}\n",
    "for scn in scenarios:\n",
    "    print(scn)\n",
    "    results_dict_norm_to_bl[scn] = {}\n",
    "    [E, U, V], _, D, V_all = lbn.run_numerical_solution(lbn.fire_and_hire_workers, \\\n",
    "    t_simulation, [δ_u, δ_v, γ_u, γ_v], [employment_0, unemployment_0, vacancies_0], \\\n",
    "    target_demand_piecewise_linear, employment, scenario_dict_norm_to_bl, scn, t_shock, shock_duration, \\\n",
    "    lbn.matching_probability, A_omn, τ)\n",
    "    \n",
    "#     results_dict_norm_to_bl[scn]['E'] = E\n",
    "#     results_dict_norm_to_bl[scn]['U'] = U\n",
    "#     results_dict_norm_to_bl[scn]['V'] = V\n",
    "#     results_dict_norm_to_bl[scn]['D'] = D\n",
    "    np.savetxt('data/geog_results/results_omng_'+scn+'_E.csv', E, delimiter=',')\n",
    "    np.savetxt('data/geog_results/results_omng_'+scn+'_U.csv', U, delimiter=',')\n",
    "    np.savetxt('data/geog_results/results_omng_'+scn+'_V.csv', V, delimiter=',')\n",
    "    V_lt = u_longterm_from_jobspell(V_all, 6)\n",
    "#     results_dict_norm_to_bl[scn]['V_lt'] = V_lt\n",
    "\n",
    "    np.savetxt('data/geog_results/results_omng_'+scn+'_V_lt.csv', V_lt, delimiter=',')\n",
    "    np.savetxt('data/geog_results/results_omng_'+scn+'_D.csv', D, delimiter=',')"
   ]
  },
  {
   "cell_type": "code",
   "execution_count": null,
   "metadata": {
    "scrolled": true
   },
   "outputs": [],
   "source": [
    "# results_dict_norm_kn_to_bl = {}\n",
    "for scn in scenarios:\n",
    "    print(scn)\n",
    "#     results_dict_norm_kn_to_bl[scn] = {}\n",
    "    [E, U, V], _, D, V_all = lbn.run_numerical_solution(lbn.fire_and_hire_workers, \\\n",
    "    t_simulation, [δ_u, δ_v, γ_u, γ_v], [employment_0, unemployment_0, vacancies_0], \\\n",
    "    target_demand_piecewise_linear, employment, scenario_dict_norm_to_bl, scn, t_shock, shock_duration, \\\n",
    "    lbn.matching_probability, A_kn, τ)\n",
    "    \n",
    "#     results_dict_norm_kn_to_bl[scn]['E'] = E\n",
    "#     results_dict_norm_kn_to_bl[scn]['U'] = U\n",
    "#     results_dict_norm_kn_to_bl[scn]['V'] = V\n",
    "#     results_dict_norm_kn_to_bl[scn]['V_all'] = V_all\n",
    "#     results_dict_norm_kn_to_bl[scn]['D'] = D\n",
    "    np.savetxt('data/geog_results/results_kn_'+scn+'_E.csv', E, delimiter=',')\n",
    "    np.savetxt('data/geog_results/results_kn_'+scn+'_U.csv', U, delimiter=',')\n",
    "    np.savetxt('data/geog_results/results_kn_'+scn+'_V.csv', V, delimiter=',')\n",
    "    V_lt = u_longterm_from_jobspell(V_all, 6)\n",
    "    np.savetxt('data/geog_results/results_kn_'+scn+'_V_lt.csv', V_lt, delimiter=',')\n",
    "    np.savetxt('data/geog_results/results_kn_'+scn+'_D.csv', D, delimiter=',')"
   ]
  },
  {
   "cell_type": "markdown",
   "metadata": {},
   "source": [
    "## Analysis"
   ]
  },
  {
   "cell_type": "code",
   "execution_count": null,
   "metadata": {},
   "outputs": [],
   "source": [
    "results_dict_norm_to_bl = {}\n",
    "for scn in scenarios:\n",
    "    print(scn)\n",
    "    results_dict_norm_to_bl[scn] = {}\n",
    "    \n",
    "    results_dict_norm_to_bl[scn]['E'] = np.genfromtxt('data/geog_results/results_omng_'+scn+'_E.csv')\n",
    "    results_dict_norm_to_bl[scn]['U'] = np.genfromtxt('data/geog_results/results_omng_'+scn+'_U.csv')\n",
    "    results_dict_norm_to_bl[scn]['V'] = np.genfromtxt('data/geog_results/results_omng_'+scn+'_V.csv')\n",
    "    results_dict_norm_to_bl[scn]['V_lt'] = np.genfromtxt('data/geog_results/results_omng_'+scn+'_V_lt.csv')\n",
    "    results_dict_norm_to_bl[scn]['D'] = np.genfromtxt('data/geog_results/results_omng_'+scn+'_D.csv')\n",
    "    \n"
   ]
  },
  {
   "cell_type": "code",
   "execution_count": null,
   "metadata": {},
   "outputs": [],
   "source": [
    "results_dict_norm_kn_to_bl = {}\n",
    "for scn in scenarios:\n",
    "    print(scn)\n",
    "    results_dict_norm_kn_to_bl[scn] = {}\n",
    "    \n",
    "    results_dict_norm_kn_to_bl[scn]['E'] = np.genfromtxt('data/geog_results/results_kn_'+scn+'_E.csv')\n",
    "    results_dict_norm_kn_to_bl[scn]['U'] = np.genfromtxt('data/geog_results/results_kn_'+scn+'_U.csv')\n",
    "    results_dict_norm_kn_to_bl[scn]['V'] = np.genfromtxt('data/geog_results/results_kn_'+scn+'_V.csv')\n",
    "    results_dict_norm_kn_to_bl[scn]['V_lt'] = np.genfromtxt('data/geog_results/results_kn_'+scn+'_V_lt.csv')\n",
    "    results_dict_norm_kn_to_bl[scn]['D'] = np.genfromtxt('data/geog_results/results_kn_'+scn+'_D.csv')\n",
    "    \n"
   ]
  },
  {
   "cell_type": "code",
   "execution_count": null,
   "metadata": {},
   "outputs": [],
   "source": [
    "scn = scenarios[1:2][0]\n",
    "x_data_0 = 100*(np.array((scenario_dict_norm_to_bl[scn].loc[2030] - scenario_dict_norm_to_bl['Cen2BAseq'].loc[2030]).values\n",
    "             )/scenario_dict_norm_to_bl['Cen2BAseq'].loc[2030])\n",
    "\n",
    "\n",
    "y_data_0 = percentage_POINT_change_u_to_baseline(results_dict_norm_to_bl[scn]['E'], \n",
    "                                           results_dict_norm_to_bl[scn]['U'],\n",
    "                                           results_dict_norm_to_bl['Cen2BAseq']['E'], \n",
    "                                           results_dict_norm_to_bl['Cen2BAseq']['U'],\n",
    "                                            260,416)\n",
    "\n",
    "y_data_kn_0 = percentage_POINT_change_u_to_baseline(results_dict_norm_kn_to_bl[scn]['E'], \n",
    "                                           results_dict_norm_kn_to_bl[scn]['U'],\n",
    "                                           results_dict_norm_kn_to_bl['Cen2BAseq']['E'], \n",
    "                                           results_dict_norm_kn_to_bl['Cen2BAseq']['U'],\n",
    "                                            260,416)\n",
    "\n",
    "scn = scenarios[2:3][0]\n",
    "x_data = 100*(np.array((scenario_dict_norm_to_bl[scn].loc[2030] - scenario_dict_norm_to_bl['Cen2BAseq'].loc[2030]).values\n",
    "             )/scenario_dict_norm_to_bl['Cen2BAseq'].loc[2030])\n",
    "\n",
    "y_data = percentage_POINT_change_u_to_baseline(results_dict_norm_to_bl[scn]['E'], \n",
    "                                           results_dict_norm_to_bl[scn]['U'],\n",
    "                                           results_dict_norm_to_bl['Cen2BAseq']['E'], \n",
    "                                           results_dict_norm_to_bl['Cen2BAseq']['U'],\n",
    "                                            260,416)\n",
    "\n",
    "y_data_kn = percentage_POINT_change_u_to_baseline(results_dict_norm_kn_to_bl[scn]['E'], \n",
    "                                           results_dict_norm_kn_to_bl[scn]['U'],\n",
    "                                           results_dict_norm_kn_to_bl['Cen2BAseq']['E'], \n",
    "                                           results_dict_norm_kn_to_bl['Cen2BAseq']['U'],\n",
    "                                            260,416)\n",
    "\n"
   ]
  },
  {
   "cell_type": "code",
   "execution_count": null,
   "metadata": {},
   "outputs": [],
   "source": [
    "results_df = pd.DataFrame(x_data.copy()).rename(columns={2030: 'x_data'})\n",
    "results_df.reset_index(inplace=True)\n",
    "results_df.rename(columns={'index': 'occ-loc'}, inplace=True)\n",
    "results_df['occ_code'] = [occ[:4] for occ in results_df['occ-loc']]\n",
    "results_df['loc'] = [occ[4:] for occ in results_df['occ-loc']]\n",
    "results_df['emp_0'] = employment_0\n",
    "\n",
    "results_df['occ_1'] = [int(occ[0]) for occ in results_df['occ_code']]\n",
    "results_df['occ_2'] = [int(occ[:2]) if not occ[0]=='0' else occ[0] for occ in results_df['occ_code']]\n",
    "results_df['loc_code'] = [np.where(np.array(regions)==reg)[0][0] for reg in results_df['loc']]\n",
    "results_df.head()"
   ]
  },
  {
   "cell_type": "markdown",
   "metadata": {},
   "source": [
    "## Labelled unemployment figures"
   ]
  },
  {
   "cell_type": "code",
   "execution_count": null,
   "metadata": {},
   "outputs": [],
   "source": [
    "cbo_1 = pd.read_csv(data_path+'CBO2002_occ_titles_1digit.csv')\n",
    "cbo_1.loc[0,'TITLE'] = 'Managers'\n",
    "xlabels_1digit = [re.sub(\"(.{\"+str(i)+\"})\", \"\\\\1\\n\", label, 1, re.DOTALL) for i, label in \n",
    "           zip([30,25,30,30,27,27,21,21,22], list(cbo_1['TITLE']))]"
   ]
  },
  {
   "cell_type": "code",
   "execution_count": null,
   "metadata": {},
   "outputs": [],
   "source": [
    "reg_cols = {'RSul': (244,158,196), #Lavender\n",
    " 'Parana': (121,37,0), #Brown\n",
    "'MtGrSul': (237,1,125), #RubineRed\n",
    "'MtGrosso': (0,174,239), #Cyan\n",
    "'Rondonia': (0,166,79), #Green\n",
    "'Acre': (238,41,103), #WildStrawberry\n",
    "'GoiasDF': (0,128,128), #teal\n",
    "'Roraima': (218,157,118), #Tan\n",
    "'Amapa': (60,128,49), #OliveGreen\n",
    "'Amazonas': (0,181,190), #Aquamarine\n",
    "'Para': (146,38,143), #Plum\n",
    "'Matopiba': (223,230,116), #GreenYellow\n",
    "'RNordeste': (141,199,62), #LimeGreen\n",
    "'Bahia': (150,75,0), #brown\n",
    "'RSudeste': (70,197,221), #SkyBlue\n",
    " 'SaoPaulo': (255,128,0),} #orange"
   ]
  },
  {
   "cell_type": "code",
   "execution_count": null,
   "metadata": {},
   "outputs": [],
   "source": [
    "results_df_large_occs_only = results_df.iloc[large_occs].copy()"
   ]
  },
  {
   "cell_type": "code",
   "execution_count": null,
   "metadata": {},
   "outputs": [],
   "source": [
    "results_df['loc_col'] = [np.array(reg_cols[reg])/255 for reg in results_df['loc']]\n",
    "results_df_large_occs_only['loc_col'] = [np.array(reg_cols[reg])/255 for reg in results_df_large_occs_only['loc']]"
   ]
  },
  {
   "cell_type": "code",
   "execution_count": null,
   "metadata": {},
   "outputs": [],
   "source": [
    "results_df['occ_title'] = [cbo_occ_titles_merge1[cbo_occ_titles_merge1['CODE']==oc]['TITLE'].values[0] \n",
    "                           for oc in results_df['occ_code']]"
   ]
  },
  {
   "cell_type": "code",
   "execution_count": null,
   "metadata": {},
   "outputs": [],
   "source": [
    "results_df['full_name'] = results_df['occ_title'] + ' in ' + results_df['loc'] "
   ]
  },
  {
   "cell_type": "code",
   "execution_count": null,
   "metadata": {},
   "outputs": [],
   "source": []
  },
  {
   "cell_type": "code",
   "execution_count": null,
   "metadata": {},
   "outputs": [],
   "source": [
    "reg_label_dict = {'Acre':'Acre',\n",
    " 'Amapa':'Amapá',\n",
    " 'Amazonas':'Amazonas',\n",
    " 'Bahia':'Bahia',\n",
    " 'GoiasDF':'GoiásDF',\n",
    " 'Matopiba':'Matopiba',\n",
    " 'MtGrSul':'MtGrSul',\n",
    " 'MtGrosso':'MtGrosso',\n",
    " 'Para':'Pará',\n",
    " 'Parana':'Paraná',\n",
    " 'RNordeste':'RNordeste',\n",
    " 'RSudeste':'RSudeste',\n",
    " 'RSul':'RSul',\n",
    " 'Rondonia':'Rondônia',\n",
    " 'Roraima':'Roraima',\n",
    " 'SaoPaulo':'SãoPaulo'}"
   ]
  },
  {
   "cell_type": "code",
   "execution_count": null,
   "metadata": {},
   "outputs": [],
   "source": [
    "short_dict_agr = {\n",
    "'Garment sewing machine operators in RSul': 'Clothing machinists',\n",
    "'Store and market trade operators in SaoPaulo': 'Store clerks',\n",
    "'Agricultural workers in vegetable cultivation in SaoPaulo': 'Agricultural\\nworkers\\n(vegetable)',\n",
    "'Textile production inspectors and proofreaders in RSul': 'Textile\\ninspectors',\n",
    "'Elementary school college level teachers (first to fourth grade) in RSudeste': \n",
    "                                                'Early elementary teachers',\n",
    "'Secondary level teachers in elementary school in RSudeste': 'Elementary teachers',\n",
    "'Secondary level teachers in elementary school in SaoPaulo': 'Elementary teachers',\n",
    "'Secondary level teachers in elementary school in RSul': 'Elementary teachers',\n",
    "'Masonry structural workers in MtGrosso': 'Masonry\\nstructural\\nworkers',\n",
    "'Civil construction helpers in MtGrosso': 'Civil\\nconstruction\\nhelpers',\n",
    "'Civil construction helpers in Amazonas': 'Civil\\nconstruction\\nhelpers',\n",
    "'Masonry structural workers in RSudeste': 'Masonry\\nstructural\\nworkers',\n",
    "'Civil construction helpers in Matopiba': 'Civil construction\\nhelpers',\n",
    "'Masonry structural workers in RSul': 'Masonry structural\\nworkers',\n",
    "'Agricultural support workers in RSudeste': 'Agricultural support workers',\n",
    "'Cashiers and ticket clerks (except bank tellers) in RSudeste': 'Cashiers ',\n",
    "'Production line feeders in SaoPaulo': 'Production line\\nfeeders',\n",
    "'Agricultural workers in vegetable cultivation in Bahia': 'Agricultural\\nworkers\\n(vegetable)',\n",
    "'Machine and lifting equipment operators in RSudeste': 'Machine\\noperators',\n",
    "'Assemblers of machines, equipment and accessories on assembly lines in RSul': 'Assemblers',\n",
    "'Garment sewing machine operators in RSudeste': 'Clothing machinists',\n",
    "'Building maintenance workers in SaoPaulo': 'Building\\nmaintenance\\nworkers',\n",
    "'Urban, metropolitan and road bus drivers in RSudeste': 'Bus\\ndrivers',\n",
    "'Grass cultivation agricultural labourers and Growing of fibrous crops agricultural labourers and Olericulture agricultural labourers and Flower and ornamental plant cultivation agricultural labourers and Fruit cultivation agricultural labourers and Agricultural workers in vegetable cultivation and Agricultural workers in oil-seed crops and Agricultural workers in spice, aromatic and medicinal crops in Roraima': 'Agricultural\\nlabourers',\n",
    "'Medium livestock keepers and Poultry and rabbit farmers and Insect and companion animal breeders in RSul': 'Medium livestock keepers',\n",
    "'Construction site managers in a construction company in RSul': 'Construction\\nsite managers',\n",
    "'Civil & Allied Engineers in MtGrSul': 'Civil and Allied\\nEngineers',\n",
    "'Agricultural workers in general in RSul': 'General agricultural workers',\n",
    "'Agricultural mechanization workers in Roraima': 'Agricultural\\nmechanization\\nworkers',\n",
    "'Agricultural workers in general in Rondonia': 'General\\nagricultural\\nworkers',\n",
    "}"
   ]
  },
  {
   "cell_type": "code",
   "execution_count": null,
   "metadata": {},
   "outputs": [],
   "source": [
    "save = True"
   ]
  },
  {
   "cell_type": "code",
   "execution_count": null,
   "metadata": {},
   "outputs": [],
   "source": [
    "agr_unemp_occs = [3912, 4052, 2416, 4071, 4100, 362, 657, 4037, 4182, 4038, 2413, 2412]"
   ]
  },
  {
   "cell_type": "code",
   "execution_count": null,
   "metadata": {},
   "outputs": [],
   "source": [
    "results_df['x_agr'] = x_data_0.values\n",
    "results_df['x_manuf'] = x_data.values\n",
    "\n",
    "results_df['y_agr'] = y_data_0\n",
    "results_df['y_manuf'] = y_data"
   ]
  },
  {
   "cell_type": "code",
   "execution_count": null,
   "metadata": {},
   "outputs": [],
   "source": [
    "f, axs = plt.subplots(1,1, figsize=(9, 7))\n",
    "# f.tight_layout(pad=8.0)\n",
    "\n",
    "# f.subplots_adjust(right=0.75)\n",
    "\n",
    "\n",
    "large_occs = list(np.where(employment_0 >= 1000)[0])\n",
    "print(len(large_occs))\n",
    "size_emp = np.array([35 + 0.0001*(employment_0[i]) for i in range(len(employment_0))])\n",
    "\n",
    "axs.spines['top'].set_visible(False)\n",
    "axs.spines['right'].set_visible(False)\n",
    "\n",
    "m = [\"v\",\"H\",\">\", \"o\", \"D\", \"p\", \"d\", \"h\", \"<\", (7,0), \"*\", \"X\", \"s\", \"^\", \"8\", \"P\"] \n",
    "    \n",
    "scn = scenarios[1:2][0]\n",
    "\n",
    "\n",
    "axs.scatter((x_data_0.iloc[large_occs]), (y_data_kn_0[large_occs]), alpha=0.6, #label='Kn\n",
    "            zorder=3, s=4)#marker='s')\n",
    "\n",
    "for i, reg in enumerate(regions):\n",
    "    large_occs = list(np.where((employment_0 >= 1000) & (results_df['loc']==reg))[0])\n",
    "\n",
    "    if reg not in ['RSudeste', 'SaoPaulo', 'RSul', 'MtGrSul', 'Rondonia', 'Roraima']:\n",
    "        axs.scatter((x_data_0.iloc[large_occs]), (y_data_0[large_occs]), s=size_emp[large_occs],\n",
    "                         alpha=0.5, edgecolors='k', zorder=2,  linewidth=0.5,#cmap=plt.get_cmap('tab10', 9),\n",
    "    #                        vmin=0.5, vmax=9.5,\n",
    "                           marker=m[i],\n",
    "                         c='0.8', label=reg_label_dict[reg]\n",
    "                          )\n",
    "    else:\n",
    "        axs.scatter((x_data_0.iloc[large_occs]), (y_data_0[large_occs]), s=size_emp[large_occs],\n",
    "                         alpha=0.5, edgecolors='k', zorder=2,  linewidth=0.5,#cmap=plt.get_cmap('tab10', 9),\n",
    "    #                        vmin=0.5, vmax=9.5,\n",
    "                           marker=m[i],\n",
    "                         c='0.8', #label=reg\n",
    "                          )\n",
    "    \n",
    "    labelled_occs = [i for i in agr_unemp_occs if i in list(results_df[results_df['loc']==reg].index)]\n",
    "    if len(labelled_occs) !=0 :\n",
    "        uplot = axs.scatter((results_df['x_agr'].loc[labelled_occs]), \n",
    "                            (results_df['y_agr'].loc[labelled_occs]), \n",
    "                            s=size_emp[labelled_occs],\n",
    "                     alpha=1, edgecolors='k', zorder=4, #cmap='inferno', vmin=0.5, vmax=9.5,\n",
    "                     c=results_df['loc_col'][labelled_occs], marker=m[i], label=reg_label_dict[reg]\n",
    "                      )\n",
    "\n",
    "        \n",
    "xlim = list(axs.get_xlim())\n",
    "axs.plot(xlim, [0, 0], '--', c='grey', zorder=1)\n",
    "axs.set_xlabel('2030 Demand change from baseline (%)', fontsize=20)\n",
    "axs.set_ylabel('2018-2030 Average unemployment \\nrate change from baseline (%-point)', fontsize=20)\n",
    "axs.set_xlim(xlim)\n",
    "# axs.set_title('Agriculture growth path', fontsize=20)\n",
    "\n",
    "    \n",
    "import matplotlib.lines as mlines\n",
    "\n",
    "kn_marker = mlines.Line2D([], [], color='tab:blue', marker='o', linestyle='None', markeredgewidth=0,\n",
    "                          markersize=10, label='K$_n$')\n",
    "omn_marker = mlines.Line2D([], [], color='0.8', marker='s', linestyle='None', markeredgewidth=0.2,\n",
    "                          markersize=10, markeredgecolor='black', label='OMN')\n",
    "\n",
    "legend2 = axs.legend(handles=[kn_marker, omn_marker], loc='lower left', fontsize=14)\n",
    "axs.add_artist(legend2)\n",
    "\n",
    "\n",
    "\n",
    "legend = axs.legend(title='Region', loc=(1.04,0.1), fontsize='12')\n",
    "legend.get_title().set_fontsize('14')\n",
    "for i in range(len(regions)):\n",
    "    legend.legendHandles[i]._sizes = [100]\n",
    "\n",
    "# axs.add_artist(legend)\n",
    "    \n",
    "short_dict = short_dict_agr\n",
    "    \n",
    "for j, occ_code in enumerate(agr_unemp_occs[:10]):\n",
    "    print(j, short_dict[results_df['full_name'].iloc[occ_code]])\n",
    "    ha = 'left'\n",
    "    va = 'center'\n",
    "    x_alt = 2\n",
    "    y_alt = 0.02\n",
    "    if (j<2)or(j==7):\n",
    "        axs.annotate(short_dict[results_df['full_name'].iloc[occ_code]],\n",
    "                        xy=(x_data_0.iloc[agr_unemp_occs].values[j]+x_alt, y_data_0[agr_unemp_occs][j]+y_alt), \n",
    "#                     xytext=(x_data_0[agr_unemp_occs][j]+x_alt, y_data_0[agr_unemp_occs][j]+y_alt),\n",
    "#                     arrowprops=dict(arrowstyle= '->', color='black', lw=1),\n",
    "                    va=va, ha=ha, fontsize=11, c='black', )#fontweight='bold')  \n",
    "    elif (j==6):\n",
    "        axs.annotate(short_dict[results_df['full_name'].iloc[occ_code]],\n",
    "                        xy=(x_data_0.iloc[agr_unemp_occs].values[j]+0.5, y_data_0[agr_unemp_occs][j]), \n",
    "                    xytext=(x_data_0.iloc[agr_unemp_occs].values[j]+8, y_data_0[agr_unemp_occs][j]+0.2),\n",
    "                    arrowprops=dict(arrowstyle= '->', color='black', lw=1),\n",
    "                    va=va, ha=ha, fontsize=11, c='black', )#fontweight='bold')  \n",
    "    elif (j==3):\n",
    "        axs.annotate(short_dict[results_df['full_name'].iloc[occ_code]],\n",
    "                        xy=(x_data_0.iloc[agr_unemp_occs].values[j], y_data_0[agr_unemp_occs][j]+0.01), \n",
    "                    xytext=(x_data_0.iloc[agr_unemp_occs].values[j]-7, y_data_0[agr_unemp_occs][j]+0.178),\n",
    "                    arrowprops=dict(arrowstyle= '->', color='black', lw=1),\n",
    "                    va=va, ha=ha, fontsize=11, c='black', )#fontweight='bold')  \n",
    "    elif (j==4):\n",
    "        axs.annotate(short_dict[results_df['full_name'].iloc[occ_code]],\n",
    "                        xy=(x_data_0.iloc[agr_unemp_occs].values[j]+0.5, y_data_0[agr_unemp_occs][j]+y_alt), \n",
    "                    xytext=(x_data_0.iloc[agr_unemp_occs].values[j]+6, y_data_0[agr_unemp_occs][j]+0.3),\n",
    "                    arrowprops=dict(arrowstyle= '->', color='black', lw=1, relpos=(0.1,0)),\n",
    "                    va=va, ha=ha, fontsize=11, c='black', )#fontweight='bold')  \n",
    "    elif (j==5):\n",
    "        axs.annotate(short_dict[results_df['full_name'].iloc[occ_code]],\n",
    "                        xy=(x_data_0.iloc[agr_unemp_occs].values[j]+0.5, y_data_0[agr_unemp_occs][j]-y_alt), \n",
    "                    xytext=(x_data_0.iloc[agr_unemp_occs].values[j]+6, y_data_0[agr_unemp_occs][j]-0.3),\n",
    "                    arrowprops=dict(arrowstyle= '->', color='black', lw=1, relpos=(0.1,0)),\n",
    "                    va=va, ha=ha, fontsize=11, c='black', )#fontweight='bold')  \n",
    "    elif (j==8):\n",
    "        axs.annotate(short_dict[results_df['full_name'].iloc[occ_code]],\n",
    "                        xy=(x_data_0.iloc[agr_unemp_occs].values[j], y_data_0[agr_unemp_occs][j]-y_alt), \n",
    "                    xytext=(x_data_0.iloc[agr_unemp_occs].values[j]-7, y_data_0[agr_unemp_occs][j]-0.8),\n",
    "                    arrowprops=dict(arrowstyle= '->', color='black', lw=1, relpos=(0.1,0)),\n",
    "                    va=va, ha=ha, fontsize=11, c='black', )#fontweight='bold')  \n",
    "    elif (j==9):\n",
    "        axs.annotate(short_dict[results_df['full_name'].iloc[occ_code]],\n",
    "                        xy=(x_data_0.iloc[agr_unemp_occs].values[j], y_data_0[agr_unemp_occs][j]-y_alt), \n",
    "                    xytext=(x_data_0.iloc[agr_unemp_occs].values[j]-8, y_data_0[agr_unemp_occs][j]-0.35),\n",
    "                    arrowprops=dict(arrowstyle= '->', color='black', lw=1, relpos=(0.1,0)),\n",
    "                    va=va, ha=ha, fontsize=11, c='black', )#fontweight='bold')      \n",
    "    else:\n",
    "        axs.annotate(short_dict[results_df['full_name'].iloc[occ_code]],\n",
    "                        xy=(x_data_0.iloc[agr_unemp_occs].values[j]+0.5, y_data_0[agr_unemp_occs][j]-y_alt), \n",
    "                    xytext=(x_data_0.iloc[agr_unemp_occs].values[j]+6, y_data_0[agr_unemp_occs][j]-7*y_alt),\n",
    "                    arrowprops=dict(arrowstyle= '->', color='black', lw=1, relpos=(0,1)),\n",
    "                    va=va, ha=ha, fontsize=11, c='black', )#fontweight='bold')  \n",
    "\n",
    "        \n",
    "if save == True:\n",
    "    plt.savefig('figures/unemp_agr.pdf',bbox_inches='tight')\n",
    "    plt.savefig('figures/unemp_agr.png',bbox_inches='tight')    \n",
    "\n",
    "\n",
    "# plt.show()"
   ]
  },
  {
   "cell_type": "code",
   "execution_count": null,
   "metadata": {},
   "outputs": [],
   "source": []
  },
  {
   "cell_type": "code",
   "execution_count": null,
   "metadata": {},
   "outputs": [],
   "source": []
  },
  {
   "cell_type": "code",
   "execution_count": null,
   "metadata": {},
   "outputs": [],
   "source": [
    "short_dict_manuf = {\n",
    "'Garment sewing machine operators in RSul': 'Clothing machinists',\n",
    "'General-purpose footwear manufacturing workers in Bahia': 'Footwear\\nmanufacturing\\nworkers',\n",
    "'Shoe sewing and fitting machine operators in RSudeste': 'Shoe\\nmachine\\noperators',\n",
    "'Equipment operators in the production of bread, pasta, sweets, chocolates and chocolate products in SaoPaulo': 'Bakery\\nequipment\\noperators',\n",
    "'Textile workers in SaoPaulo': 'Textile\\nworkers',\n",
    "'Garment sewing machine operators in SaoPaulo': 'Clothing\\nmachinists',\n",
    "'Crystal, glass, ceramic, porcelain, fiberglass, abrasive and related manufacturing and processing equipment operators in SaoPaulo': 'Glass\\nequipment\\noperators',\n",
    "'Grass cultivation agricultural labourers in Matopiba': 'Agricultural\\nworkers (grass)',\n",
    "'Electro-electronic equipment assemblers in SaoPaulo': 'Electronic\\nequipment\\nassemblers',\n",
    "'Electromechanical installers and maintainers of elevators, stairways and automatic doors in RSul': 'Electromechanical installers',\n",
    "'Civil construction helpers in Amazonas': 'Civil construction\\nhelpers',\n",
    "'Masonry structural workers in RSudeste': 'Masonry structural\\nworkers',\n",
    "'Civil construction helpers in MtGrosso': 'Civil construction\\nhelpers',\n",
    "'Masonry structural workers in MtGrosso': 'Masonry structural\\nworkers',\n",
    "'Administrative agents, assistants and helpers in RSudeste': 'Administrative\\nagents',\n",
    "'Delivery motorcyclists and delivery cyclists in RSudeste': 'Delivery\\ncyclists',\n",
    "}"
   ]
  },
  {
   "cell_type": "code",
   "execution_count": null,
   "metadata": {},
   "outputs": [],
   "source": [
    "manuf_unemp_occs = []\n",
    "for k in short_dict_manuf.keys():\n",
    "    if k in results_df['full_name'].values:\n",
    "        manuf_unemp_occs.append(results_df[results_df['full_name']==k].index[0])\n",
    "manuf_unemp_occs.append(results_df[results_df['occ-loc']=='761XSaoPaulo'].index[0])\n",
    "print(manuf_unemp_occs)"
   ]
  },
  {
   "cell_type": "code",
   "execution_count": null,
   "metadata": {},
   "outputs": [],
   "source": [
    "short_dict_manuf['Textile workers and Textile fiber sorting and wool washing workers and Spinning mill operators and Weaving machine and similar machine operators in SaoPaulo'] = 'Textile\\nworkers'"
   ]
  },
  {
   "cell_type": "code",
   "execution_count": null,
   "metadata": {},
   "outputs": [],
   "source": [
    "manuf_unemp_occs = [5037,5101, 4502, 5891, 4895, 6380,  4335, 4507, 4331, 3124, 3828]"
   ]
  },
  {
   "cell_type": "code",
   "execution_count": null,
   "metadata": {},
   "outputs": [],
   "source": [
    "save = True\n",
    "# save = False"
   ]
  },
  {
   "cell_type": "code",
   "execution_count": null,
   "metadata": {},
   "outputs": [],
   "source": [
    "f, axs = plt.subplots(1,1, figsize=(9, 7))\n",
    "# f.tight_layout(pad=8.0)\n",
    "large_occs = list(np.where(employment_0 >= 1000)[0])\n",
    "print(len(large_occs))\n",
    "size_emp = np.array([35 + 0.0001*(employment_0[i]) for i in range(len(employment_0))])\n",
    "\n",
    "axs.spines['top'].set_visible(False)\n",
    "axs.spines['right'].set_visible(False)\n",
    "\n",
    "m = [\"v\",\"H\",\">\", \"o\", \"D\", \"p\", \"d\", \"h\", \"<\", (7,0), \"*\", \"X\", \"s\", \"^\", \"8\", \"P\"] \n",
    "    \n",
    "scn = scenarios[1:2][0]\n",
    "\n",
    "axs.scatter((x_data.iloc[large_occs]), (y_data_kn[large_occs]), alpha=0.6, #label='Kn\n",
    "            zorder=3, s=4)#marker='s')\n",
    "\n",
    "for i, reg in enumerate(regions):\n",
    "    large_occs = list(np.where((employment_0 >= 1000) & (results_df['loc']==reg))[0])\n",
    "\n",
    "    if reg not in ['SaoPaulo', 'Amazonas', 'MtGrosso', 'RSudeste', 'RSul']:\n",
    "        axs.scatter((x_data.iloc[large_occs]), (y_data[large_occs]), s=size_emp[large_occs],\n",
    "                         alpha=0.5, edgecolors='k', zorder=2,  linewidth=0.5,#cmap=plt.get_cmap('tab10', 9),\n",
    "    #                        vmin=0.5, vmax=9.5,\n",
    "                           marker=m[i],\n",
    "                         c='0.8', label=reg_label_dict[reg]\n",
    "                          )\n",
    "    else:\n",
    "        axs.scatter((x_data.iloc[large_occs]), (y_data[large_occs]), s=size_emp[large_occs],\n",
    "                         alpha=0.5, edgecolors='k', zorder=2,  linewidth=0.5,#cmap=plt.get_cmap('tab10', 9),\n",
    "    #                        vmin=0.5, vmax=9.5,\n",
    "                           marker=m[i],\n",
    "                         c='0.8', #label=reg\n",
    "                          )\n",
    "    \n",
    "    labelled_occs = [i for i in manuf_unemp_occs if i in list(results_df[results_df['loc']==reg].index)]\n",
    "    if len(labelled_occs) != 0:\n",
    "        uplot = axs.scatter((results_df['x_manuf'].loc[labelled_occs]), \n",
    "                            (results_df['y_manuf'].loc[labelled_occs]), \n",
    "                            s=size_emp[labelled_occs],\n",
    "                     alpha=1, edgecolors='k', zorder=4, #cmap='inferno', vmin=0.5, vmax=9.5,\n",
    "                     c=results_df['loc_col'][labelled_occs], marker=m[i], label=reg_label_dict[reg]\n",
    "                      )\n",
    "\n",
    "xlim = list(axs.get_xlim())\n",
    "axs.plot(xlim, [0, 0], '--', c='grey', zorder=1)\n",
    "axs.set_xlabel('2030 Demand change from baseline (%)', fontsize=20)\n",
    "axs.set_ylabel('2018-2030 Average unemployment \\nrate change from baseline (%-point)', fontsize=20)\n",
    "axs.set_xlim(xlim)\n",
    "# axs.set_title('Agriculture growth path', fontsize=20)\n",
    "\n",
    "import matplotlib.lines as mlines\n",
    "\n",
    "kn_marker = mlines.Line2D([], [], color='tab:blue', marker='o', linestyle='None', markeredgewidth=0,\n",
    "                          markersize=10, label='K$_n$')\n",
    "omn_marker = mlines.Line2D([], [], color='0.8', marker='s', linestyle='None', markeredgewidth=0.2,\n",
    "                          markersize=10, markeredgecolor='black', label='OMN')\n",
    "\n",
    "legend2 = axs.legend(handles=[kn_marker, omn_marker], loc='lower left', fontsize=14)\n",
    "axs.add_artist(legend2)\n",
    "\n",
    "\n",
    "\n",
    "legend = axs.legend(title='Region', loc=(1.04,0.1), fontsize='12')\n",
    "legend.get_title().set_fontsize('14')\n",
    "for i in range(len(regions)):\n",
    "    legend.legendHandles[i]._sizes = [100]\n",
    "    \n",
    "short_dict = short_dict_manuf\n",
    "    \n",
    "for j, occ_code in enumerate(manuf_unemp_occs):\n",
    "    print(j, short_dict[results_df['full_name'].iloc[occ_code]])\n",
    "    ha = 'center'\n",
    "    va = 'center'\n",
    "    x_alt = 1\n",
    "    y_alt = 0.02\n",
    "    if j==0:\n",
    "        axs.annotate(short_dict[results_df['full_name'].iloc[occ_code]],\n",
    "                        xy=(x_data.iloc[manuf_unemp_occs].values[j], y_data[manuf_unemp_occs][j]-0.006), \n",
    "                    xytext=(x_data.iloc[manuf_unemp_occs].values[j]+x_alt, y_data[manuf_unemp_occs][j]-5*y_alt),\n",
    "                    arrowprops=dict(arrowstyle= '->', color='black', lw=1),\n",
    "                    va=va, ha=ha, fontsize=10, c='black', )#fontweight='bold')  \n",
    "    elif j==3:\n",
    "        axs.annotate(short_dict[results_df['full_name'].iloc[occ_code]],\n",
    "                        xy=(x_data.iloc[manuf_unemp_occs].values[j]-x_alt, y_data[manuf_unemp_occs][j]-y_alt),\n",
    "                    va='top', ha=ha, fontsize=10, c='black', )#fontweight='bold')   \n",
    "    elif j==4:\n",
    "        axs.annotate(short_dict[results_df['full_name'].iloc[occ_code]],\n",
    "                        xy=(x_data.iloc[manuf_unemp_occs].values[j]-0.5, y_data[manuf_unemp_occs][j]+y_alt/2), \n",
    "                    va='center', ha='right', fontsize=10, c='black', )#fontweight='bold')   \n",
    "    elif j==5:\n",
    "        axs.annotate(short_dict[results_df['full_name'].iloc[occ_code]],\n",
    "                        xy=(x_data.iloc[manuf_unemp_occs].values[j]+2, y_data[manuf_unemp_occs][j]-y_alt), \n",
    "                    va='top', ha='right', fontsize=10, c='black', )#fontweight='bold') \n",
    "    elif j==7:\n",
    "        axs.annotate(short_dict[results_df['full_name'].iloc[occ_code]],\n",
    "                        xy=(x_data.iloc[manuf_unemp_occs].values[j], y_data[manuf_unemp_occs][j]-0.006), \n",
    "                    xytext=(x_data.iloc[manuf_unemp_occs].values[j]+x_alt, y_data[manuf_unemp_occs][j]-5*y_alt),\n",
    "                    arrowprops=dict(arrowstyle= '->', color='black', lw=1),\n",
    "                    va=va, ha=ha, fontsize=10, c='black', )#fontweight='bold')  \n",
    "    elif j==8:\n",
    "        axs.annotate(short_dict[results_df['full_name'].iloc[occ_code]],\n",
    "                        xy=(x_data.iloc[manuf_unemp_occs].values[j], y_data[manuf_unemp_occs][j]+0.006), \n",
    "                    xytext=(x_data.iloc[manuf_unemp_occs].values[j]+x_alt, y_data[manuf_unemp_occs][j]+5*y_alt),\n",
    "                    arrowprops=dict(arrowstyle= '->', color='black', lw=1),\n",
    "                    va=va, ha=ha, fontsize=10, c='black', )#fontweight='bold')  \n",
    "    elif j==9:\n",
    "        axs.annotate(short_dict[results_df['full_name'].iloc[occ_code]],\n",
    "                        xy=(x_data.iloc[manuf_unemp_occs].values[j], y_data[manuf_unemp_occs][j]+0.006), \n",
    "                    xytext=(x_data.iloc[manuf_unemp_occs].values[j]+2.5, y_data[manuf_unemp_occs][j]+10*y_alt),\n",
    "                    arrowprops=dict(arrowstyle= '->', color='black', lw=1, relpos=(0.35, 0)),\n",
    "                    va=va, ha=ha, fontsize=10, c='black', )#fontweight='bold')  \n",
    "    elif j==10:\n",
    "        axs.annotate(short_dict[results_df['full_name'].iloc[occ_code]],\n",
    "                        xy=(x_data.iloc[manuf_unemp_occs].values[j], y_data[manuf_unemp_occs][j]+0.006), \n",
    "                    xytext=(x_data.iloc[manuf_unemp_occs].values[j]-x_alt, y_data[manuf_unemp_occs][j]+10*y_alt),\n",
    "                    arrowprops=dict(arrowstyle= '->', color='black', lw=1, relpos=(0.8,0)),\n",
    "                    va=va, ha=ha, fontsize=10, c='black', )#fontweight='bold')  \n",
    "    else:\n",
    "        axs.annotate(short_dict[results_df['full_name'].iloc[occ_code]],\n",
    "                        xy=(x_data.iloc[manuf_unemp_occs].values[j]+x_alt, y_data[manuf_unemp_occs][j]+2*y_alt), \n",
    "#                     xytext=(x_data.iloc[manuf_unemp_occs].values[j]+x_alt, y_data[manuf_unemp_occs][j]+y_alt),\n",
    "#                     arrowprops=dict(arrowstyle= '->', color='black', lw=1),\n",
    "                    va=va, ha=ha, fontsize=10, c='black', )#fontweight='bold')  \n",
    "\n",
    "\n",
    "if save == True:\n",
    "    plt.savefig('figures/unemp_manuf.pdf',bbox_inches='tight')\n",
    "    plt.savefig('figures/unemp_manuf.png',bbox_inches='tight')    \n",
    "\n",
    "\n",
    "# plt.show()"
   ]
  },
  {
   "cell_type": "code",
   "execution_count": null,
   "metadata": {},
   "outputs": [],
   "source": []
  },
  {
   "cell_type": "markdown",
   "metadata": {},
   "source": [
    "## Vacancies"
   ]
  },
  {
   "cell_type": "code",
   "execution_count": null,
   "metadata": {},
   "outputs": [],
   "source": [
    "def period_vac_rate(D, V, time_start, time_end):\n",
    "    d = D[time_start:time_end, :]\n",
    "    v = V[time_start:time_end, :]\n",
    "    return 100*sum(v) / sum(d)\n",
    "\n",
    "def percentage_POINT_change_v_to_baseline(D, U, D_b, U_b, time_start_1, time_end_1):\n",
    "    v_scn_num = period_vac_rate(D, U, time_start_1, time_end_1)\n",
    "    v_baseline_num = period_vac_rate(D_b, U_b, time_start_1, time_end_1)\n",
    "    return v_scn_num - v_baseline_num\n"
   ]
  },
  {
   "cell_type": "code",
   "execution_count": null,
   "metadata": {},
   "outputs": [],
   "source": [
    "scn = scenarios[1:2][0]\n",
    "\n",
    "vacs_0 = percentage_POINT_change_v_to_baseline(results_dict_norm_to_bl[scn]['V'] +\n",
    "                                                  results_dict_norm_to_bl[scn]['E'], \n",
    "                                                  results_dict_norm_to_bl[scn]['V_lt'],\n",
    "                                                  results_dict_norm_to_bl['Cen2BAseq']['V'] +\n",
    "                                                  results_dict_norm_to_bl['Cen2BAseq']['E'], \n",
    "                                                  results_dict_norm_to_bl['Cen2BAseq']['V_lt'],\n",
    "                                                  260,416)\n",
    "\n",
    "vacs_kn_0 = percentage_POINT_change_v_to_baseline(results_dict_norm_kn_to_bl[scn]['V'] +\n",
    "                                                  results_dict_norm_kn_to_bl[scn]['E'], \n",
    "                                                  results_dict_norm_kn_to_bl[scn]['V_lt'],\n",
    "                                                  results_dict_norm_kn_to_bl['Cen2BAseq']['V'] +\n",
    "                                                  results_dict_norm_kn_to_bl['Cen2BAseq']['E'], \n",
    "                                                  results_dict_norm_kn_to_bl['Cen2BAseq']['V_lt'],\n",
    "                                                  260,416)\n",
    "\n",
    "\n",
    "scn = scenarios[2:3][0]\n",
    "\n",
    "\n",
    "vacs = percentage_POINT_change_v_to_baseline(results_dict_norm_to_bl[scn]['V'] +\n",
    "                                                  results_dict_norm_to_bl[scn]['E'], \n",
    "                                                  results_dict_norm_to_bl[scn]['V_lt'],\n",
    "                                                  results_dict_norm_to_bl['Cen2BAseq']['V'] +\n",
    "                                                  results_dict_norm_to_bl['Cen2BAseq']['E'], \n",
    "                                                  results_dict_norm_to_bl['Cen2BAseq']['V_lt'],\n",
    "                                                  260,416)\n",
    "\n",
    "vacs_kn = percentage_POINT_change_v_to_baseline(results_dict_norm_kn_to_bl[scn]['V'] +\n",
    "                                                  results_dict_norm_kn_to_bl[scn]['E'], \n",
    "                                                  results_dict_norm_kn_to_bl[scn]['V_lt'],\n",
    "                                                  results_dict_norm_kn_to_bl['Cen2BAseq']['V'] +\n",
    "                                                  results_dict_norm_kn_to_bl['Cen2BAseq']['E'], \n",
    "                                                  results_dict_norm_kn_to_bl['Cen2BAseq']['V_lt'],\n",
    "                                                  260,416)\n"
   ]
  },
  {
   "cell_type": "markdown",
   "metadata": {},
   "source": [
    "## Labelled figures"
   ]
  },
  {
   "cell_type": "code",
   "execution_count": null,
   "metadata": {},
   "outputs": [],
   "source": [
    "short_dict_agr = {    'Public prosecutors and attorneys in GoiasDF': 'Public prosecutors',\n",
    "'Higher level teachers in early childhood education in Bahia': 'Early childhood teachers',\n",
    "'Electric, telephone and data communication lines and cables installers and repairers in MtGrosso': \n",
    "    'Cable installers\\nand repairers',\n",
    "'Systems and applications development technicians in Rondonia': \n",
    "    'Systems technicians',\n",
    "'Programmers, evaluators, and guidance counselors in Amazonas': \n",
    "    'Programmers, evaluators, and\\nguidance counselors',\n",
    "'Electric, telephone and data communication lines and cables installers and repairers in Para': \n",
    "    'Cable installers\\nand repairers',\n",
    "'Civil construction helpers in MtGrosso': 'Civil construction\\nhelpers',\n",
    "'Masonry structural workers in MtGrosso': 'Masonry structural\\nworkers',\n",
    "'Clinical Doctors in Para': 'Clinical Doctors',\n",
    "'Programmers, evaluators, and guidance counselors in Para': \n",
    "    'Programmers, evaluators, and\\nguidance counselors',\n",
    "'Weaving machine and similar machine operators in RNordeste': 'Weaving machinists ',\n",
    "'Spinning mill operators in RSul': 'Spinning mill operators',\n",
    "'Weaving machine and similar machine operators in RSudeste': 'Weaving machinists',\n",
    "'Pharmaceutical, cosmetic and related products machine and plant operators in GoiasDF': \n",
    "    'Pharmaceutical plant operators',\n",
    "'Large animal husbandry workers in Rondonia': 'Large animal husbandry workers',\n",
    "'Weaving machine and similar machine operators in RSul': \n",
    "    'Weaving\\nmachinists',\n",
    "'Planning, scheduling, and logistics control professionals in SaoPaulo': \n",
    "    'Logistics control professionals',\n",
    "    'Systems and applications development technicians in MtGrosso': 'Systems technicians',\n",
    "    'Telecommunications Technicians in SaoPaulo': 'Telecommunications\\ntechnicians',\n",
    "    'Agricultural workers in general in Amapa': 'General agricultural workers',\n",
    "    'Farm supervisors in Rondonia': 'Farm supervisors',\n",
    "    'Ceramic, tile, stone and wood tile layers in RSul': 'Tile layers',\n",
    "'Concrete finishers in Matopiba': 'Concrete finishers',\n",
    "'Subway maintenance mechanic in Parana': 'Subway maintenance\\nmechanics',\n",
    "'Production and operations managers in agriculture, fishing, aquaculture and forestry companies in RSul': 'Agriculture\\noperations\\nmanagers',\n",
    "'Medium livestock keepers and Poultry and rabbit farmers and Insect and companion animal breeders in Rondonia': 'Medium livestock keepers',\n",
    "'Operational permanent way maintenance workers (except railroad) in Roraima': 'Road maintenance workers',\n",
    "'Agricultural producers in general and Multipurpose agricultural producers and Agricultural Producers in Grass Crops and Growers in fibrous crops and Growers in horticulture and Growers in flower and ornamentals crops and Growers in fruit growing and Agricultural producers in the culture of stimulant plants and Agricultural producers in oil-seed crops and Growers of spices, aromatic and medicinal plants in MtGrSul': 'Agricultural producers',\n",
    "                'Civil & Allied Engineers in MtGrSul': 'Civil and Allied\\nEngineers'\n",
    "}"
   ]
  },
  {
   "cell_type": "code",
   "execution_count": null,
   "metadata": {},
   "outputs": [],
   "source": [
    "agr_vacs_occs = []\n",
    "for k in short_dict_agr.keys():\n",
    "    if k in results_df['full_name'].values:\n",
    "        agr_vacs_occs.append(results_df[results_df['full_name']==k].index[0])\n",
    "# manuf_vacs_occs.append(results_df[results_df['occ-loc']=='761XSaoPaulo'].index[0])\n",
    "print(agr_vacs_occs)"
   ]
  },
  {
   "cell_type": "code",
   "execution_count": null,
   "metadata": {},
   "outputs": [],
   "source": [
    "# agr_vacs_occs = [2017, 2111]\n",
    "# agr_vacs_occs = [2017, 2111, 1262, 973, 4919, 4920, 4507, 4331, 946, 5629, 2105]\n",
    "agr_vacs_occs = [4026, 2017, 2111, 4464, 4425, 6201, 330, 4101, 6494, 3983, 657, 4920]"
   ]
  },
  {
   "cell_type": "code",
   "execution_count": null,
   "metadata": {},
   "outputs": [],
   "source": [
    "save"
   ]
  },
  {
   "cell_type": "code",
   "execution_count": null,
   "metadata": {},
   "outputs": [],
   "source": [
    "f, axs = plt.subplots(1,1, figsize=(9, 7))\n",
    "# f.tight_layout(pad=8.0)\n",
    "large_occs = list(np.where(employment_0 >= 1000)[0])\n",
    "#     large_occs = list(range(n))\n",
    "print(len(large_occs))\n",
    "size_emp = np.array([35 + 0.0001*(employment_0[i]) for i in range(len(employment_0))])\n",
    "\n",
    "axs.spines['top'].set_visible(False)\n",
    "axs.spines['right'].set_visible(False)\n",
    "\n",
    "m = [\"v\",\"H\",\">\", \"o\", \"D\", \"p\", \"d\", \"h\", \"<\", (7,0), \"*\", \"X\", \"s\", \"^\", \"8\", \"P\"] \n",
    "    \n",
    "scn = scenarios[1:2][0]\n",
    "axs.scatter((x_data_0.iloc[large_occs]), (vacs_kn_0[large_occs]), alpha=0.6, #label='Kn\n",
    "            zorder=3, s=4)#marker='s')\n",
    "\n",
    "for i, reg in enumerate(regions):\n",
    "    large_occs = list(np.where((employment_0 >= 1000) & (results_df['loc']==reg))[0])\n",
    "#     print(len(large_occs))\n",
    "    if reg not in ['Rondonia', 'SaoPaulo', 'Amapa', 'Roraima', 'Parana', 'RSul', 'MtGrSul', 'Matopiba',\n",
    "                  'Para']:\n",
    " \n",
    "        axs.scatter((x_data_0.iloc[large_occs]), (vacs_0[large_occs]), s=size_emp[large_occs],\n",
    "                     alpha=0.5, edgecolors='k', zorder=2, linewidth=0.5,#cmap=plt.get_cmap('tab10', 9),\n",
    "#                        vmin=0.5, vmax=9.5,\n",
    "                       marker=m[i],\n",
    "                     c='0.8', label=reg_label_dict[reg]\n",
    "                      )\n",
    "    else:\n",
    "        axs.scatter((x_data_0.iloc[large_occs]), (vacs_0[large_occs]), s=size_emp[large_occs],\n",
    "                     alpha=0.5, edgecolors='k', zorder=2,  linewidth=0.5,#cmap=plt.get_cmap('tab10', 9),\n",
    "#                        vmin=0.5, vmax=9.5,\n",
    "                       marker=m[i],\n",
    "                     c='0.8', #label=reg\n",
    "                      )\n",
    "    labelled_occs = [i for i in agr_vacs_occs if i in list(results_df[results_df['loc']==reg].index)]\n",
    "    if len(labelled_occs) != 0:\n",
    "        uplot = axs.scatter((x_data_0.iloc[labelled_occs]), (vacs_0[labelled_occs]), s=size_emp[labelled_occs],\n",
    "                     alpha=1, edgecolors='k', zorder=4, #cmap='inferno', vmin=0.5, vmax=9.5,\n",
    "                     c=results_df['loc_col'][labelled_occs], marker=m[i], label=reg_label_dict[reg]\n",
    "                      )\n",
    "\n",
    "xlim = list(axs.get_xlim())\n",
    "axs.plot(xlim, [0, 0], '--', c='grey', zorder=1)\n",
    "axs.set_xlabel('2030 Demand change from baseline (%)', fontsize=20)\n",
    "axs.set_ylabel('2018-2030 Average 6-month\\n unfilled vacancy rate change \\nfrom baseline (%-point)', fontsize=20)\n",
    "axs.set_xlim(xlim)\n",
    "# axs.set_title('Higher-emissions Scenario', fontsize=20)\n",
    "axs.tick_params(labelsize=14)\n",
    "\n",
    "\n",
    "import matplotlib.lines as mlines\n",
    "\n",
    "kn_marker = mlines.Line2D([], [], color='tab:blue', marker='o', linestyle='None', markeredgewidth=0,\n",
    "                          markersize=10, label='K$_n$')\n",
    "omn_marker = mlines.Line2D([], [], color='0.8', marker='s', linestyle='None', markeredgewidth=0.2,\n",
    "                          markersize=10, markeredgecolor='black', label='OMN')\n",
    "\n",
    "legend2 = axs.legend(handles=[kn_marker, omn_marker], loc='lower right', fontsize=14)\n",
    "axs.add_artist(legend2)\n",
    "\n",
    "legend = axs.legend(title='Region', loc=(1.04,0.1), fontsize='12')\n",
    "legend.get_title().set_fontsize('14')\n",
    "for i in range(len(regions)):\n",
    "    legend.legendHandles[i]._sizes = [100]\n",
    "    \n",
    "    \n",
    "short_dict = short_dict_agr\n",
    "    \n",
    "for j, occ_code in enumerate(agr_vacs_occs):\n",
    "    print(j, short_dict[results_df['full_name'].iloc[occ_code]])\n",
    "    ha = 'center'\n",
    "    va = 'center'\n",
    "    x_alt = 1\n",
    "    y_alt = 0.02\n",
    "    if (j<=1)or(j==7)or(j>=9):\n",
    "        axs.annotate(short_dict[results_df['full_name'].iloc[occ_code]],\n",
    "                        xy=(x_data_0.iloc[agr_vacs_occs].values[j]+x_alt, vacs_0[agr_vacs_occs][j]-2*y_alt), \n",
    "#                     xytext=(x_data_0[agr_vacs_occs][j]+x_alt, vacs_0[agr_vacs_occs][j]+y_alt),\n",
    "#                     arrowprops=dict(arrowstyle= '->', color='black', lw=1),\n",
    "                    va='top', ha='left', fontsize=10, c='black', )#fontweight='bold')  \n",
    "    elif (j==2)or(j==4):\n",
    "        axs.annotate(short_dict[results_df['full_name'].iloc[occ_code]],\n",
    "                        xy=(x_data_0.iloc[agr_vacs_occs].values[j], vacs_0[agr_vacs_occs][j]+y_alt), \n",
    "                    xytext=(x_data_0.iloc[agr_vacs_occs].values[j]-x_alt, vacs_0[agr_vacs_occs][j]+0.5),\n",
    "                    arrowprops=dict(arrowstyle= '->', color='black', lw=1, relpos=(0.8, 0)),\n",
    "                    va=va, ha='right', fontsize=10, c='black', )#fontweight='bold') \n",
    "    elif j==3:\n",
    "        axs.annotate(short_dict[results_df['full_name'].iloc[occ_code]],\n",
    "                        xy=(x_data_0.iloc[agr_vacs_occs].values[j]+1, vacs_0[agr_vacs_occs][j]+y_alt), \n",
    "                    xytext=(x_data_0.iloc[agr_vacs_occs].values[j]+12, vacs_0[agr_vacs_occs][j]+0.385),\n",
    "                    arrowprops=dict(arrowstyle= '->', color='black', lw=1, ),#relpos=(0.2, 0)),\n",
    "                    va=va, ha=ha, fontsize=10, c='black', )#fontweight='bold') \n",
    "    elif (j==5)or(j==8):\n",
    "        axs.annotate(short_dict[results_df['full_name'].iloc[occ_code]],\n",
    "                        xy=(x_data_0.iloc[agr_vacs_occs].values[j], vacs_0[agr_vacs_occs][j]+y_alt), \n",
    "                    xytext=(x_data_0.iloc[agr_vacs_occs].values[j]-1.3*x_alt, vacs_0[agr_vacs_occs][j]+0.5),\n",
    "                    arrowprops=dict(arrowstyle= '->', color='black', lw=1, relpos=(0.9, 0)),\n",
    "                    va=va, ha='right', fontsize=10, c='black', )#fontweight='bold') \n",
    "    elif j==6:\n",
    "        axs.annotate(short_dict[results_df['full_name'].iloc[occ_code]],\n",
    "                        xy=(x_data_0.iloc[agr_vacs_occs].values[j]-x_alt, vacs_0[agr_vacs_occs][j]-y_alt), \n",
    "                    xytext=(x_data_0.iloc[agr_vacs_occs].values[j]-18, vacs_0[agr_vacs_occs][j]-0.55),\n",
    "                    arrowprops=dict(arrowstyle= '->', color='black', lw=1, ),#relpos=(0.8, 1)),\n",
    "                    va=va, ha='left', fontsize=10, c='black', )#fontweight='bold') \n",
    "    \n",
    "    else:\n",
    "        axs.annotate(short_dict[results_df['full_name'].iloc[occ_code]],\n",
    "                        xy=(x_data_0.iloc[agr_vacs_occs].values[j]+x_alt, vacs_0[agr_vacs_occs][j]+2*y_alt), \n",
    "#                     xytext=(x_data_0.iloc[agr_vacs_occs].values[j]+x_alt, vacs_0[agr_vacs_occs][j]+y_alt),\n",
    "#                     arrowprops=dict(arrowstyle= '->', color='black', lw=1),\n",
    "                    va=va, ha='right', fontsize=10, c='black', )#fontweight='bold')  \n",
    "\n",
    "  \n",
    "if save == True:\n",
    "    plt.savefig('figures/vacancy_agr.pdf',bbox_inches='tight')\n",
    "    plt.savefig('figures/vacancy_agr.png',bbox_inches='tight')    \n",
    "\n",
    "\n",
    "# plt.show()"
   ]
  },
  {
   "cell_type": "code",
   "execution_count": null,
   "metadata": {},
   "outputs": [],
   "source": []
  },
  {
   "cell_type": "code",
   "execution_count": null,
   "metadata": {},
   "outputs": [],
   "source": [
    "short_dict_manuf = {\n",
    "'Electric, telephone and data communication lines and cables installers and repairers in MtGrosso':\n",
    "    'Cable installers\\nand repairers', \n",
    "    'Systems and applications development technicians in Para': 'Systems technicians',\n",
    "    'Electric, telephone and data communication lines and cables installers and repairers in MtGrosso': 'Cable installers\\nand repairers',\n",
    "'Managers and operations specialists in business, secretarial, and healthcare facilities in Bahia': 'Facilities managers and\\noperations specialists',\n",
    "'Managers and operations specialists in business, secretarial, and healthcare facilities in RNordeste': 'Facilities managers and\\noperations specialists',\n",
    "'Managers of service operations in a tourism, accommodation and food service company in Amazonas': 'Service operations managers',\n",
    "'Child, youth, adult and elderly caregivers in Amapa': 'Caregivers',\n",
    "'Multi-skilled garment makers in Bahia': 'Multi-skilled\\ngarment\\nmakers',\n",
    "'Garment sewing machine operators in RSul': 'Garment\\nsewing\\nmachine\\noperators',\n",
    "'Metallurgical furnaces (second melting and reheating) in RSul': 'Metallurgy\\nworkers',\n",
    "'Conventional woodworking machine operators in Parana': 'Woodworking machine operators',\n",
    "'Cooks in Rondonia': 'Cooks',\n",
    "'Clothing embroidery and finishing machine operators in Para': 'Clothing embroidery\\nmachine operators',\n",
    "'Mail, parcel and publication sorting and delivery service workers in RSul': 'Mail delivery service workers',\n",
    "}\n"
   ]
  },
  {
   "cell_type": "code",
   "execution_count": null,
   "metadata": {},
   "outputs": [],
   "source": [
    "manuf_vacs_occs = []\n",
    "for k in short_dict_manuf.keys():\n",
    "    if k in results_df['full_name'].values:\n",
    "        manuf_vacs_occs.append(results_df[results_df['full_name']==k].index[0])\n",
    "# manuf_vacs_occs.append(results_df[results_df['occ-loc']=='761XSaoPaulo'].index[0])\n",
    "print(manuf_vacs_occs)"
   ]
  },
  {
   "cell_type": "code",
   "execution_count": null,
   "metadata": {},
   "outputs": [],
   "source": [
    "manuf_vacs_occs = [4919, 2106, 289, 296, 384, 3658, 5057, 5098, 5763, 5318, 3494, 5110]\n"
   ]
  },
  {
   "cell_type": "code",
   "execution_count": null,
   "metadata": {},
   "outputs": [],
   "source": [
    "f, axs = plt.subplots(1,1, figsize=(9, 7))\n",
    "# f.tight_layout(pad=8.0)\n",
    "large_occs = list(np.where(employment_0 >= 1000)[0])\n",
    "#     large_occs = list(range(n))\n",
    "print(len(large_occs))\n",
    "size_emp = np.array([35 + 0.0001*(employment_0[i]) for i in range(len(employment_0))])\n",
    "\n",
    "axs.spines['top'].set_visible(False)\n",
    "axs.spines['right'].set_visible(False)\n",
    "\n",
    "m = [\"v\",\"H\",\">\", \"o\", \"D\", \"p\", \"d\", \"h\", \"<\", (7,0), \"*\", \"X\", \"s\", \"^\", \"8\", \"P\"] \n",
    "    \n",
    "scn = scenarios[1:2][0]\n",
    "axs.scatter((x_data.iloc[large_occs]), (vacs_kn[large_occs]), alpha=0.6, #label='Kn\n",
    "            zorder=3, s=4)#marker='s')\n",
    "\n",
    "for i, reg in enumerate(regions):\n",
    "    large_occs = list(np.where((employment_0 >= 1000) & (results_df['loc']==reg))[0])\n",
    "#     print(len(large_occs))\n",
    "    if reg not in ['Amapa', 'Amazonas', 'Bahia', 'MtGrosso', 'Para', 'Parana', 'RNordeste', 'RSul', 'Rondonia']:\n",
    " \n",
    "        axs.scatter((x_data.iloc[large_occs]), (vacs[large_occs]), s=size_emp[large_occs],\n",
    "                     alpha=0.5, edgecolors='k', zorder=2, linewidth=0.5,#cmap=plt.get_cmap('tab10', 9),\n",
    "#                        vmin=0.5, vmax=9.5,\n",
    "                       marker=m[i],\n",
    "                     c='0.8', label=reg_label_dict[reg]\n",
    "                      )\n",
    "    else:\n",
    "        axs.scatter((x_data.iloc[large_occs]), (vacs[large_occs]), s=size_emp[large_occs],\n",
    "                     alpha=0.5, edgecolors='k', zorder=2,  linewidth=0.5,#cmap=plt.get_cmap('tab10', 9),\n",
    "#                        vmin=0.5, vmax=9.5,\n",
    "                       marker=m[i],\n",
    "                     c='0.8', #label=reg\n",
    "                      )\n",
    "    labelled_occs = [i for i in manuf_vacs_occs if i in list(results_df[results_df['loc']==reg].index)]\n",
    "    if len(labelled_occs) != 0:\n",
    "        uplot = axs.scatter((x_data.iloc[labelled_occs]), (vacs[labelled_occs]), s=size_emp[labelled_occs],\n",
    "                     alpha=1, edgecolors='k', zorder=4, #cmap='inferno', vmin=0.5, vmax=9.5,\n",
    "                     c=results_df['loc_col'][labelled_occs], marker=m[i], label=reg_label_dict[reg]\n",
    "                      )\n",
    "\n",
    "xlim = list(axs.get_xlim())\n",
    "axs.plot(xlim, [0, 0], '--', c='grey', zorder=1)\n",
    "axs.set_xlabel('2030 Demand change from baseline (%)', fontsize=20)\n",
    "axs.set_ylabel('2018-2030 Average 6-month\\n unfilled vacancy rate change \\nfrom baseline (%-point)', fontsize=20)\n",
    "axs.set_xlim(xlim)\n",
    "# axs.set_title('Higher-emissions Scenario', fontsize=20)\n",
    "axs.tick_params(labelsize=14)\n",
    "\n",
    "import matplotlib.lines as mlines\n",
    "\n",
    "kn_marker = mlines.Line2D([], [], color='tab:blue', marker='o', linestyle='None', markeredgewidth=0,\n",
    "                          markersize=10, label='K$_n$')\n",
    "omn_marker = mlines.Line2D([], [], color='0.8', marker='s', linestyle='None', markeredgewidth=0.2,\n",
    "                          markersize=10, markeredgecolor='black', label='OMN')\n",
    "\n",
    "legend2 = axs.legend(handles=[kn_marker, omn_marker], loc='lower right', fontsize=14)\n",
    "axs.add_artist(legend2)\n",
    "\n",
    "legend = axs.legend(title='Region', loc=(1.04,0.1), fontsize='12')\n",
    "legend.get_title().set_fontsize('14')\n",
    "for i in range(len(regions)):\n",
    "    legend.legendHandles[i]._sizes = [100]\n",
    "    \n",
    "    \n",
    "    \n",
    "short_dict = short_dict_manuf\n",
    "    \n",
    "for j, occ_code in enumerate(manuf_vacs_occs):\n",
    "    print(j, short_dict[results_df['full_name'].iloc[occ_code]])\n",
    "    ha = 'center'\n",
    "    va = 'center'\n",
    "    x_alt = 0.5\n",
    "    y_alt = 0.005\n",
    "    if j==0:\n",
    "        axs.annotate(short_dict[results_df['full_name'].iloc[occ_code]],\n",
    "                        xy=(x_data.iloc[manuf_vacs_occs].values[j], vacs[manuf_vacs_occs][j]+3*y_alt), \n",
    "#                     xytext=(x_data.iloc[manuf_vacs_occs].values[j]+x_alt, vacs[manuf_vacs_occs][j]+y_alt),\n",
    "#                     arrowprops=dict(arrowstyle= '->', color='black', lw=1),\n",
    "                    va='bottom', ha=ha, fontsize=10, c='black', )#fontweight='bold')  \n",
    "    elif (j==5):\n",
    "        axs.annotate(short_dict[results_df['full_name'].iloc[occ_code]],\n",
    "                        xy=(x_data.iloc[manuf_vacs_occs].values[j], vacs[manuf_vacs_occs][j]+4*y_alt), \n",
    "#                     xytext=(x_data.iloc[manuf_vacs_occs].values[j]+x_alt, vacs[manuf_vacs_occs][j]+y_alt),\n",
    "#                     arrowprops=dict(arrowstyle= '->', color='black', lw=1),\n",
    "                    va='bottom', ha=ha, fontsize=10, c='black', )#fontweight='bold')  \n",
    "    elif (j==2):\n",
    "        axs.annotate(short_dict[results_df['full_name'].iloc[occ_code]],\n",
    "                        xy=(x_data.iloc[manuf_vacs_occs].values[j], vacs[manuf_vacs_occs][j]-y_alt), \n",
    "                    xytext=(x_data.iloc[manuf_vacs_occs].values[j]+4*x_alt, vacs[manuf_vacs_occs][j]-0.35),\n",
    "                    arrowprops=dict(arrowstyle= '->', color='black', lw=1),\n",
    "                    va='bottom', ha=ha, fontsize=10, c='black', )#fontweight='bold')  \n",
    "    elif (j==3):\n",
    "        axs.annotate(' ',\n",
    "                        xy=(x_data.iloc[manuf_vacs_occs].values[j]+x_alt/2, vacs[manuf_vacs_occs][j]-y_alt), \n",
    "                    xytext=(x_data.iloc[manuf_vacs_occs].values[j]+5*x_alt, vacs[manuf_vacs_occs][j]-0.18),\n",
    "                    arrowprops=dict(arrowstyle= '->', color='black', lw=1),\n",
    "                    va='bottom', ha=ha, fontsize=10, c='black', )#fontweight='bold')  \n",
    "    elif (j==6):\n",
    "        axs.annotate(short_dict[results_df['full_name'].iloc[occ_code]],\n",
    "                        xy=(x_data.iloc[manuf_vacs_occs].values[j]-x_alt, vacs[manuf_vacs_occs][j]), \n",
    "#                     xytext=(x_data.iloc[manuf_vacs_occs].values[j]+x_alt, vacs[manuf_vacs_occs][j]+y_alt),\n",
    "#                     arrowprops=dict(arrowstyle= '->', color='black', lw=1),\n",
    "                    va=va, ha='right', fontsize=10, c='black', )#fontweight='bold')  \n",
    "    elif (j==7):\n",
    "        axs.annotate(short_dict[results_df['full_name'].iloc[occ_code]],\n",
    "                        xy=(x_data.iloc[manuf_vacs_occs].values[j], vacs[manuf_vacs_occs][j]+3*y_alt), \n",
    "#                     xytext=(x_data.iloc[manuf_vacs_occs].values[j]+x_alt, vacs[manuf_vacs_occs][j]+y_alt),\n",
    "#                     arrowprops=dict(arrowstyle= '->', color='black', lw=1),\n",
    "                    va='bottom', ha='right', fontsize=10, c='black', )#fontweight='bold')  \n",
    "    elif (j==8):\n",
    "        axs.annotate(short_dict[results_df['full_name'].iloc[occ_code]],\n",
    "                        xy=(x_data.iloc[manuf_vacs_occs].values[j]+x_alt, vacs[manuf_vacs_occs][j]), \n",
    "#                     xytext=(x_data.iloc[manuf_vacs_occs].values[j]+x_alt, vacs[manuf_vacs_occs][j]+y_alt),\n",
    "#                     arrowprops=dict(arrowstyle= '->', color='black', lw=1),\n",
    "                    va='top', ha='left', fontsize=10, c='black', )#fontweight='bold')  \n",
    "    elif (j==9):\n",
    "        axs.annotate(short_dict[results_df['full_name'].iloc[occ_code]],\n",
    "                        xy=(x_data.iloc[manuf_vacs_occs].values[j]+x_alt/2, vacs[manuf_vacs_occs][j]-y_alt), \n",
    "                    xytext=(x_data.iloc[manuf_vacs_occs].values[j]+4, vacs[manuf_vacs_occs][j]-0.15),\n",
    "                    arrowprops=dict(arrowstyle= '->', color='black', lw=1, relpos=(0.2,1)),\n",
    "                    va='bottom', ha='left', fontsize=10, c='black', )#fontweight='bold')  \n",
    "    elif (j==10):\n",
    "        axs.annotate(short_dict[results_df['full_name'].iloc[occ_code]],\n",
    "                        xy=(x_data.iloc[manuf_vacs_occs].values[j]+x_alt/2, vacs[manuf_vacs_occs][j]-y_alt), \n",
    "                    xytext=(x_data.iloc[manuf_vacs_occs].values[j]+4, vacs[manuf_vacs_occs][j]-0.115),\n",
    "                    arrowprops=dict(arrowstyle= '->', color='black', lw=1, relpos=(0.1,0.8)),\n",
    "                    va='bottom', ha='left', fontsize=10, c='black', )#fontweight='bold')  \n",
    "    elif (j==11):\n",
    "        axs.annotate(short_dict[results_df['full_name'].iloc[occ_code]],\n",
    "                        xy=(x_data.iloc[manuf_vacs_occs].values[j], vacs[manuf_vacs_occs][j]+y_alt), \n",
    "                    xytext=(x_data.iloc[manuf_vacs_occs].values[j]-1, vacs[manuf_vacs_occs][j]+0.22),\n",
    "                    arrowprops=dict(arrowstyle= '->', color='black', lw=1, ),#relpos=(0.1,0.8)),\n",
    "                    va='bottom', ha='right', fontsize=10, c='black', )#fontweight='bold')  \n",
    "    elif (j==4):\n",
    "        axs.annotate(short_dict[results_df['full_name'].iloc[occ_code]],\n",
    "                        xy=(x_data.iloc[manuf_vacs_occs].values[j]-0.5, vacs[manuf_vacs_occs][j]), \n",
    "                    xytext=(x_data.iloc[manuf_vacs_occs].values[j]-2, vacs[manuf_vacs_occs][j]+0.01),\n",
    "                    arrowprops=dict(arrowstyle= '->', color='black', lw=1, relpos=(1,0.5)),\n",
    "                    va='bottom', ha='right', fontsize=10, c='black', )#fontweight='bold')  \n",
    "    elif (j==1):\n",
    "        axs.annotate(short_dict[results_df['full_name'].iloc[occ_code]],\n",
    "                        xy=(x_data.iloc[manuf_vacs_occs].values[j], vacs[manuf_vacs_occs][j]), \n",
    "                    xytext=(x_data.iloc[manuf_vacs_occs].values[j]-1.5, vacs[manuf_vacs_occs][j]+0.07),\n",
    "                    arrowprops=dict(arrowstyle= '->', color='black', lw=1, relpos=(1,0.5)),\n",
    "                    va='bottom', ha='right', fontsize=10, c='black', )#fontweight='bold')  \n",
    "    else:\n",
    "        axs.annotate(short_dict[results_df['full_name'].iloc[occ_code]],\n",
    "                        xy=(x_data.iloc[manuf_vacs_occs].values[j]+x_alt, vacs[manuf_vacs_occs][j]+y_alt), \n",
    "#                     xytext=(x_data.iloc[manuf_vacs_occs].values[j]+x_alt, vacs[manuf_vacs_occs][j]+y_alt),\n",
    "#                     arrowprops=dict(arrowstyle= '->', color='black', lw=1),\n",
    "                    va=va, ha='right', fontsize=10, c='black', )#fontweight='bold')  \n",
    "\n",
    "  \n",
    "if save == True:\n",
    "    plt.savefig('figures/vacancy_manuf.pdf',bbox_inches='tight')\n",
    "    plt.savefig('figures/vacancy_manuf.png',bbox_inches='tight')    \n",
    "\n",
    "\n",
    "# plt.show()"
   ]
  },
  {
   "cell_type": "code",
   "execution_count": null,
   "metadata": {},
   "outputs": [],
   "source": [
    "large_occs = list(np.where(employment_0 >= 1000)[0])"
   ]
  },
  {
   "cell_type": "code",
   "execution_count": null,
   "metadata": {},
   "outputs": [],
   "source": [
    "len(large_occs)"
   ]
  },
  {
   "cell_type": "code",
   "execution_count": null,
   "metadata": {},
   "outputs": [],
   "source": [
    "results_df['vacs_agr'] = vacs_0\n",
    "results_df['vacs_manuf'] = vacs"
   ]
  },
  {
   "cell_type": "code",
   "execution_count": null,
   "metadata": {},
   "outputs": [],
   "source": [
    "results_df.iloc[large_occs].nlargest(5, 'vacs_agr')['full_name'].values\n"
   ]
  },
  {
   "cell_type": "code",
   "execution_count": null,
   "metadata": {},
   "outputs": [],
   "source": [
    "results_df.iloc[large_occs].nlargest(5, 'vacs_manuf')['full_name'].values\n"
   ]
  },
  {
   "cell_type": "code",
   "execution_count": null,
   "metadata": {},
   "outputs": [],
   "source": [
    "## 1-digit vacancy rate\n",
    "# results_dict_norm_to_bl['Cen2BAseq']['U']\n",
    "results_dict_1digit = {}\n",
    "for scn in scenarios:\n",
    "    results_dict_1digit[scn] = {}\n",
    "    for var in ['E', 'U', 'V', 'V_lt', 'D']:\n",
    "        results_dict_1digit[scn][var] = np.array([np.sum(results_dict_norm_to_bl[scn][var]\n",
    "                                                         [:,np.where((results_df['occ_1'] == digit)&\n",
    "                                                                     (results_df['emp_0']>1000))[0]], axis=1) \n",
    "                                                  for digit in range(0,10)]).T"
   ]
  },
  {
   "cell_type": "code",
   "execution_count": null,
   "metadata": {},
   "outputs": [],
   "source": [
    "cbo_1 = pd.read_csv(data_path+'CBO2002_occ_titles_1digit.csv')\n",
    "cbo_1.loc[0,'TITLE'] = 'Managers'"
   ]
  },
  {
   "cell_type": "code",
   "execution_count": null,
   "metadata": {},
   "outputs": [],
   "source": [
    "cbo_1.loc[-1] = [0, 'Military workers']  # adding a row\n",
    "cbo_1.index = cbo_1.index + 1  # shifting index\n",
    "cbo_1 = cbo_1.sort_index()  # sorting by index"
   ]
  },
  {
   "cell_type": "code",
   "execution_count": null,
   "metadata": {},
   "outputs": [],
   "source": [
    "cbo_1"
   ]
  },
  {
   "cell_type": "code",
   "execution_count": null,
   "metadata": {},
   "outputs": [],
   "source": [
    "xlabels_1digit = [re.sub(\"(.{\"+str(i)+\"})\", \"\\\\1\\n\", label, 1, re.DOTALL) for i, label in \n",
    "           zip([30, 30,25,30,30,27,27,21,21,22], list(cbo_1['TITLE']))]"
   ]
  },
  {
   "cell_type": "code",
   "execution_count": null,
   "metadata": {},
   "outputs": [],
   "source": [
    "## 4-digit \n",
    "# results_dict_norm_to_bl['Cen2BAseq']['U']\n",
    "results_dict_4digit = {}\n",
    "\n",
    "for scn in scenarios:\n",
    "    results_dict_4digit[scn] = {}\n",
    "    \n",
    "    for var in ['E', 'U', 'V', 'V_lt', 'D']:\n",
    "        results_dict_4digit[scn][var] = np.array([np.sum(results_dict_norm_to_bl[scn][var]\n",
    "                                                         [:,np.where((results_df['occ_code'] == digit)&\n",
    "                                                                     (results_df['emp_0']>1000))[0]], axis=1) \n",
    "                                                  for digit in np.sort(list(results_df['occ_code'].unique())) ]).T\n"
   ]
  },
  {
   "cell_type": "code",
   "execution_count": null,
   "metadata": {},
   "outputs": [],
   "source": [
    "# results_dict_norm_to_bl['Cen2BAseq']['U']\n",
    "results_dict_reg = {}\n",
    "for scn in scenarios:\n",
    "    results_dict_reg[scn] = {}\n",
    "    for var in ['E', 'U', 'V', 'V_lt', 'D']:\n",
    "        results_dict_reg[scn][var] = np.array([np.sum(results_dict_norm_to_bl[scn][var]\n",
    "                                                         [:,np.where((results_df['loc_code'] == digit)&\n",
    "                                                                     (results_df['emp_0']>1000))[0]], axis=1) \n",
    "                                                  for digit in range(16)]).T"
   ]
  },
  {
   "cell_type": "code",
   "execution_count": null,
   "metadata": {},
   "outputs": [],
   "source": [
    "t_start = 260\n",
    "t_end = 416"
   ]
  },
  {
   "cell_type": "code",
   "execution_count": null,
   "metadata": {},
   "outputs": [],
   "source": [
    "## create new plot:\n",
    "# baseline vacancy rate ------ scenario vacancy rate\n",
    "vacs_rate_bl = period_vac_rate(results_dict_norm_to_bl['Cen2BAseq']['V']+\n",
    "                               results_dict_norm_to_bl['Cen2BAseq']['E'], \n",
    "                               results_dict_norm_to_bl['Cen2BAseq']['V_lt'], t_start, t_end)\n",
    "\n",
    "vacs_rate_0 = period_vac_rate(results_dict_norm_to_bl['Cen2Aseq']['V']+\n",
    "                               results_dict_norm_to_bl['Cen2Aseq']['E'], \n",
    "                               results_dict_norm_to_bl['Cen2Aseq']['V_lt'], t_start, t_end)\n",
    "\n",
    "vacs_rate = period_vac_rate(results_dict_norm_to_bl['Cen5Aseq']['V']+\n",
    "                               results_dict_norm_to_bl['Cen5Aseq']['E'], \n",
    "                               results_dict_norm_to_bl['Cen5Aseq']['V_lt'], t_start, t_end)"
   ]
  },
  {
   "cell_type": "code",
   "execution_count": null,
   "metadata": {},
   "outputs": [],
   "source": [
    "## create new plot:\n",
    "vacs_rate_bl_1digit = period_vac_rate(results_dict_1digit['Cen2BAseq']['V']+\n",
    "                               results_dict_1digit['Cen2BAseq']['E'], \n",
    "                               results_dict_1digit['Cen2BAseq']['V_lt'], t_start, t_end)\n",
    "\n",
    "vacs_rate_0_1digit = period_vac_rate(results_dict_1digit['Cen2Aseq']['V']+\n",
    "                               results_dict_1digit['Cen2Aseq']['E'], \n",
    "                               results_dict_1digit['Cen2Aseq']['V_lt'], t_start, t_end)\n",
    "\n",
    "vacs_rate_1digit = period_vac_rate(results_dict_1digit['Cen5Aseq']['V']+\n",
    "                               results_dict_1digit['Cen5Aseq']['E'], \n",
    "                               results_dict_1digit['Cen5Aseq']['V_lt'], t_start, t_end)"
   ]
  },
  {
   "cell_type": "code",
   "execution_count": null,
   "metadata": {},
   "outputs": [],
   "source": [
    "emp_per_1digit_occ = np.array([np.sum(results_df_large_occs_only[\n",
    "                    results_df_large_occs_only['occ_1'] == i]['emp_0']) for i in range(0,10)])"
   ]
  },
  {
   "cell_type": "code",
   "execution_count": null,
   "metadata": {},
   "outputs": [],
   "source": [
    "vacs_rate_0_1digit_perc = np.array(100*(vacs_rate_0_1digit-vacs_rate_bl_1digit) / vacs_rate_bl_1digit)\n",
    "vacs_rate_1digit_perc = np.array(100*(vacs_rate_1digit-vacs_rate_bl_1digit) / vacs_rate_bl_1digit)"
   ]
  },
  {
   "cell_type": "code",
   "execution_count": null,
   "metadata": {},
   "outputs": [],
   "source": [
    "## create new plot:\n",
    "# baseline vacancy rate ------ scenario vacancy rate\n",
    "vacs_rate_bl_reg = period_vac_rate(results_dict_reg['Cen2BAseq']['V']+\n",
    "                               results_dict_reg['Cen2BAseq']['E'], \n",
    "                               results_dict_reg['Cen2BAseq']['V_lt'], t_start, t_end)\n",
    "\n",
    "vacs_rate_0_reg = period_vac_rate(results_dict_reg['Cen2Aseq']['V']+\n",
    "                               results_dict_reg['Cen2Aseq']['E'], \n",
    "                               results_dict_reg['Cen2Aseq']['V_lt'], t_start, t_end)\n",
    "\n",
    "vacs_rate_reg = period_vac_rate(results_dict_reg['Cen5Aseq']['V']+\n",
    "                               results_dict_reg['Cen5Aseq']['E'], \n",
    "                               results_dict_reg['Cen5Aseq']['V_lt'], t_start, t_end)"
   ]
  },
  {
   "cell_type": "code",
   "execution_count": null,
   "metadata": {},
   "outputs": [],
   "source": [
    "emp_per_region = np.array([np.sum(results_df_large_occs_only[results_df_large_occs_only['loc_code'] == i]['emp_0']) \n",
    "                           for i in range(16)])"
   ]
  },
  {
   "cell_type": "code",
   "execution_count": null,
   "metadata": {},
   "outputs": [],
   "source": [
    "no_occs_per_region = np.array([len(results_df_large_occs_only[results_df_large_occs_only['loc_code'] == i])\n",
    "                               for i in range(16)])"
   ]
  },
  {
   "cell_type": "code",
   "execution_count": null,
   "metadata": {},
   "outputs": [],
   "source": [
    "vacs_rate_0_reg_perc = np.array(100*(vacs_rate_0_reg-vacs_rate_bl_reg) / vacs_rate_bl_reg)\n",
    "vacs_rate_reg_perc = np.array(100*(vacs_rate_reg-vacs_rate_bl_reg) / vacs_rate_bl_reg)"
   ]
  },
  {
   "cell_type": "code",
   "execution_count": null,
   "metadata": {},
   "outputs": [],
   "source": [
    "# results_dict_norm_to_bl['Cen2BAseq']['U']\n",
    "results_dict_reg1digit = {}\n",
    "for scn in scenarios:\n",
    "    results_dict_reg1digit[scn] = {}\n",
    "    for reg in regions:\n",
    "        results_dict_reg1digit[scn][reg] = {}\n",
    "        for var in ['E', 'U', 'V', 'V_lt', 'D']:\n",
    "            results_dict_reg1digit[scn][reg][var] = np.array([np.sum(results_dict_norm_to_bl[scn][var]\n",
    "                                                             [:,np.where((results_df['occ_1'] == digit)&(\n",
    "                                                             results_df['loc'] == reg))[0]], axis=1) \n",
    "                                                      for digit in range(0,10)]).T\n"
   ]
  },
  {
   "cell_type": "code",
   "execution_count": null,
   "metadata": {},
   "outputs": [],
   "source": [
    "unemp_rate_bl_reg1digit = np.array([period_occ_u_rate(\n",
    "                               results_dict_reg1digit['Cen2BAseq'][reg]['E'], \n",
    "                               results_dict_reg1digit['Cen2BAseq'][reg]['U'], t_start, t_end) \n",
    "                          for reg in regions])\n",
    "\n",
    "unemp_rate_0_reg1digit = np.array([period_occ_u_rate(\n",
    "                               results_dict_reg1digit['Cen2Aseq'][reg]['E'], \n",
    "                               results_dict_reg1digit['Cen2Aseq'][reg]['U'], t_start, t_end)\n",
    "                         for reg in regions])\n",
    "\n",
    "unemp_rate_reg1digit = np.array([period_occ_u_rate(\n",
    "                               results_dict_reg1digit['Cen5Aseq'][reg]['E'], \n",
    "                               results_dict_reg1digit['Cen5Aseq'][reg]['U'], t_start, t_end)\n",
    "                       for reg in regions])"
   ]
  },
  {
   "cell_type": "code",
   "execution_count": null,
   "metadata": {},
   "outputs": [],
   "source": [
    "vmin = np.min((unemp_rate_0_reg1digit-unemp_rate_bl_reg1digit,unemp_rate_reg1digit-unemp_rate_bl_reg1digit))\n",
    "vmax = np.max((unemp_rate_0_reg1digit-unemp_rate_bl_reg1digit, unemp_rate_reg1digit-unemp_rate_bl_reg1digit))\n",
    "\n",
    "# vmm = [vmin, vmax][np.argmax([abs(1-vmin), abs(1-vmax)])]\n",
    "print(vmin, vmax)\n",
    "# if vmm >1:\n",
    "#     vmin=2-vmm\n",
    "#     vmax=vmm\n",
    "# else:\n",
    "#     vmin=vmm\n",
    "#     vmax=2-vmm"
   ]
  },
  {
   "cell_type": "code",
   "execution_count": null,
   "metadata": {},
   "outputs": [],
   "source": [
    "# USD gdp from Wikipedia - IGBE 2016 Regional Accounts Report\n",
    "# joined regions added together\n",
    "gdp_regions = [3.934,  4.102,               25.468,                                    78.127, \n",
    "       51.982+67.376,  (9.033+24.400+11.846), 26.283,                                    35.429,\n",
    "       39.501,         114.916,             (17.069+39.590+16.905+47.861+14.149+11.120), \n",
    "               (155.821+31.250+183.158),\n",
    "       116.914+73.431, 11.287,              3.150,               583.077, \n",
    "              ]"
   ]
  },
  {
   "cell_type": "code",
   "execution_count": null,
   "metadata": {},
   "outputs": [],
   "source": [
    "# USD gdp from Wikipedia - IGBE 2016 Regional Accounts Report\n",
    "# joined regions added together\n",
    "gdp_pc_regions = [3.934/0.8,  4.102/0.8,               25.468/4,      78.127/15.3, \n",
    "       (51.982+67.376)/(6.7+3),  (9.033+24.400+11.846)/(1.5+7+3.2), 26.283/2.7,\n",
    "                   35.429/3.3,\n",
    "       39.501/8.3,         114.916/11.2,   \n",
    "         (17.069+39.590+16.905+47.861+14.149+11.120)/(3.5+9+4+9.4+3.4+2.3), \n",
    "               (155.821+31.250+183.158)/(20.9+3.9+16.6),\n",
    "       (116.914+73.431)/(11.3+6.9),    11.287/1.8,     3.150/0.5,     583.077/44.8, \n",
    "              ]"
   ]
  },
  {
   "cell_type": "code",
   "execution_count": null,
   "metadata": {},
   "outputs": [],
   "source": [
    "mean_wage_per_1digit = pd.DataFrame([9227.783711, 5401.866298, 4828.684458, 2686.807683, 1841.363321, \n",
    "                        1774.235092, 1557.419791, 1914.425304, 2237.693771, 2343.606856], columns=['occ_1']).occ_1\n"
   ]
  },
  {
   "cell_type": "code",
   "execution_count": null,
   "metadata": {},
   "outputs": [],
   "source": [
    "row_idxs = np.argsort(mean_wage_per_1digit)[::-1]# * -1)\n",
    "col_idxs = np.argsort(gdp_pc_regions)[::-1]# * -1)\n"
   ]
  },
  {
   "cell_type": "code",
   "execution_count": null,
   "metadata": {},
   "outputs": [],
   "source": [
    "cbo_1['TITLE_short'] = ['Military workers', 'Managers',\n",
    " 'Professionals of sciences and arts',\n",
    " 'Middle-level technicians',\n",
    " 'Administrative workers',\n",
    " 'Service workers',\n",
    " 'Agricultural workers',\n",
    " 'Industrial goods  workers (craft)',\n",
    " 'Industrial goods workers (machine)',\n",
    " 'Repair and maintenance workers']"
   ]
  },
  {
   "cell_type": "code",
   "execution_count": null,
   "metadata": {},
   "outputs": [],
   "source": [
    "## Split into two\n",
    "f, axs = plt.subplots(1,1, figsize=(7,5))\n",
    "f.tight_layout(pad = 4.5)\n",
    "\n",
    "title_fontsize = 14\n",
    "axislabels_fontsize = 14\n",
    "small_fontsize = 10\n",
    "\n",
    "vmin=-0.4\n",
    "vmax=0.4\n",
    "\n",
    "row_idxs = np.argsort(mean_wage_per_1digit)[::-1]# * -1)\n",
    "col_idxs = np.argsort(gdp_pc_regions)[::-1]# * -1)\n",
    "\n",
    "\n",
    "uplot = axs.imshow((unemp_rate_0_reg1digit-unemp_rate_bl_reg1digit).T[row_idxs.drop(9),:][:, col_idxs], cmap='RdBu_r',\n",
    "             vmin=vmin, vmax=vmax, \n",
    "             )\n",
    "# axs.set_title('Agriculture Scenario', fontsize=title_fontsize)\n",
    "\n",
    "axs.set_xticks(range(16))\n",
    "axs.set_xticklabels(np.array(regions)[col_idxs], rotation=45, ha='right', fontsize=axislabels_fontsize, rotation_mode='anchor')\n",
    "\n",
    "axs.set_yticks(range(9))\n",
    "axs.set_yticklabels(cbo_1['TITLE_short'][row_idxs.drop(9)], fontsize=axislabels_fontsize)\n",
    "\n",
    "cbar = plt.colorbar(uplot, ax=axs, fraction=0.03, pad=0.12)\n",
    "cbar.ax.tick_params(labelsize=axislabels_fontsize)\n",
    "cbar.set_label(label='2018-2030 Average unemployment\\nrate change from baseline (%-point)',\n",
    "              fontsize=axislabels_fontsize)\n",
    "\n",
    "\n",
    "plt.gcf().text(0.82, 0.8, 'Mean\\nwage\\n(BRL)', fontsize=14, ha='center')\n",
    "for i in range(0,9):\n",
    "    plt.gcf().text(0.79, 0.275+i/17.5, int(np.round(np.sort(mean_wage_per_1digit), -1)[i]), fontsize=14)\n",
    "\n",
    "\n",
    "plt.gcf().text(0.13, 0.02, 'High GDP', fontsize=axislabels_fontsize)\n",
    "plt.gcf().text(0.7, 0.02, 'Low GDP', fontsize=axislabels_fontsize)\n",
    "# plt.arrow(10,-1,-10,1)\n",
    "axs.annotate('', xy=(0.22, -0.475), xycoords='axes fraction', xytext=(0.84, -0.475), \n",
    "            arrowprops=dict(arrowstyle=\"<-\", color='black'))\n",
    "\n",
    "if save == True:\n",
    "    plt.savefig('figures/unemp_heatmap_agr.pdf', bbox_inches='tight')\n",
    "    plt.savefig('figures/unemp_heatmap_agr.png', bbox_inches='tight')\n",
    "plt.show()\n",
    "\n",
    "\n"
   ]
  },
  {
   "cell_type": "code",
   "execution_count": null,
   "metadata": {},
   "outputs": [],
   "source": [
    "## Split into two\n",
    "f, axs = plt.subplots(1,1, figsize=(7,5))\n",
    "f.tight_layout(pad = 4.5)\n",
    "\n",
    "title_fontsize = 14\n",
    "axislabels_fontsize = 14\n",
    "small_fontsize = 10\n",
    "\n",
    "vmin=-0.4\n",
    "vmax=0.4\n",
    "\n",
    "row_idxs = np.argsort(mean_wage_per_1digit)[::-1]# * -1)\n",
    "col_idxs = np.argsort(gdp_pc_regions)[::-1]# * -1)\n",
    "\n",
    "\n",
    "uplot = axs.imshow((unemp_rate_reg1digit-unemp_rate_bl_reg1digit).T[row_idxs.drop(9),:][:, col_idxs], cmap='RdBu_r',\n",
    "             vmin=vmin, vmax=vmax, \n",
    "             )\n",
    "# axs.set_title('Agriculture Scenario', fontsize=title_fontsize)\n",
    "\n",
    "axs.set_xticks(range(16))\n",
    "axs.set_xticklabels(np.array(regions)[col_idxs], rotation=45, ha='right', fontsize=axislabels_fontsize, rotation_mode='anchor')\n",
    "\n",
    "axs.set_yticks(range(9))\n",
    "axs.set_yticklabels(cbo_1['TITLE_short'][row_idxs.drop(9)], fontsize=axislabels_fontsize)\n",
    "\n",
    "cbar = plt.colorbar(uplot, ax=axs, fraction=0.03, pad=0.12)\n",
    "cbar.ax.tick_params(labelsize=axislabels_fontsize)\n",
    "cbar.set_label(label='2018-2030 Average unemployment\\nrate change from baseline (%-point)',\n",
    "              fontsize=axislabels_fontsize)\n",
    "\n",
    "# plt.gcf().text(0.8, 0.68, 'high\\nwage', fontsize=axislabels_fontsize)\n",
    "# plt.gcf().text(0.8, 0.27, 'low\\nwage', fontsize=axislabels_fontsize)\n",
    "# # plt.arrow(10,-1,-10,1)\n",
    "# axs.annotate('', xy=(1.05, 0.8), xycoords='axes fraction', xytext=(1.05, 0.15), \n",
    "#             arrowprops=dict(arrowstyle=\"<-\", color='black'))\n",
    "\n",
    "\n",
    "plt.gcf().text(0.83, 0.74, 'High\\nwage', fontsize=13, ha='center')\n",
    "plt.gcf().text(0.83, 0.25, 'Low\\nwage', fontsize=13, ha='center')\n",
    "# for i in range(10):\n",
    "#     plt.gcf().text(0.8, 0.25+i/17.5, int(np.round(np.sort(mean_wage_per_1digit), -1)[i]), fontsize=12)\n",
    "axs.annotate('', xy=(1.06, 0.87), xycoords='axes fraction', xytext=(1.06, 0.15), \n",
    "            arrowprops=dict(arrowstyle=\"<-\", color='black'))\n",
    "\n",
    "plt.gcf().text(0.13, 0.02, 'High GDP', fontsize=axislabels_fontsize)\n",
    "plt.gcf().text(0.7, 0.02, 'Low GDP', fontsize=axislabels_fontsize)\n",
    "# plt.arrow(10,-1,-10,1)\n",
    "axs.annotate('', xy=(0.22, -0.475), xycoords='axes fraction', xytext=(0.84, -0.475), \n",
    "            arrowprops=dict(arrowstyle=\"<-\", color='black'))\n",
    "\n",
    "if save == True:\n",
    "    plt.savefig('figures/unemp_heatmap_manuf.pdf', bbox_inches='tight')\n",
    "    plt.savefig('figures/unemp_heatmap_manuf.png', bbox_inches='tight')\n",
    "plt.show()\n",
    "\n",
    "\n"
   ]
  },
  {
   "cell_type": "code",
   "execution_count": null,
   "metadata": {},
   "outputs": [],
   "source": [
    "vacs_rate_bl_reg1digit = np.array([period_vac_rate(results_dict_reg1digit['Cen2BAseq'][reg]['V']+\n",
    "                               results_dict_reg1digit['Cen2BAseq'][reg]['E'], \n",
    "                               results_dict_reg1digit['Cen2BAseq'][reg]['V_lt'], t_start, t_end) \n",
    "                          for reg in regions])\n",
    "\n",
    "vacs_rate_0_reg1digit = np.array([period_vac_rate(results_dict_reg1digit['Cen2Aseq'][reg]['V']+\n",
    "                               results_dict_reg1digit['Cen2Aseq'][reg]['E'], \n",
    "                               results_dict_reg1digit['Cen2Aseq'][reg]['V_lt'], t_start, t_end)\n",
    "                         for reg in regions])\n",
    "\n",
    "vacs_rate_reg1digit = np.array([period_vac_rate(results_dict_reg1digit['Cen5Aseq'][reg]['V']+\n",
    "                               results_dict_reg1digit['Cen5Aseq'][reg]['E'], \n",
    "                               results_dict_reg1digit['Cen5Aseq'][reg]['V_lt'], t_start, t_end)\n",
    "                       for reg in regions])\n",
    "\n"
   ]
  },
  {
   "cell_type": "code",
   "execution_count": null,
   "metadata": {},
   "outputs": [],
   "source": [
    "save = True"
   ]
  },
  {
   "cell_type": "code",
   "execution_count": null,
   "metadata": {},
   "outputs": [],
   "source": [
    "## Split into two\n",
    "f, axs = plt.subplots(1,1, figsize=(7,5))\n",
    "f.tight_layout(pad = 4.5)\n",
    "\n",
    "title_fontsize = 14\n",
    "axislabels_fontsize = 14\n",
    "small_fontsize = 10\n",
    "\n",
    "vmin=-0.65\n",
    "vmax=0.65\n",
    "\n",
    "row_idxs = np.argsort(mean_wage_per_1digit)[::-1]# * -1)\n",
    "col_idxs = np.argsort(gdp_pc_regions)[::-1]# * -1)\n",
    "\n",
    "\n",
    "uplot = axs.imshow((vacs_rate_0_reg1digit-vacs_rate_bl_reg1digit).T[row_idxs.drop(9),:][:, col_idxs], cmap='PuOr',\n",
    "             vmin=vmin, vmax=vmax, \n",
    "             )\n",
    "# axs.set_title('Agriculture Scenario', fontsize=title_fontsize)\n",
    "\n",
    "axs.set_xticks(range(16))\n",
    "axs.set_xticklabels(np.array(regions)[col_idxs], rotation=45, ha='right', fontsize=axislabels_fontsize, rotation_mode='anchor')\n",
    "\n",
    "axs.set_yticks(range(9))\n",
    "axs.set_yticklabels(cbo_1['TITLE_short'][row_idxs.drop(9)], fontsize=axislabels_fontsize)\n",
    "\n",
    "cbar = plt.colorbar(uplot, ax=axs, fraction=0.03, pad=0.12)\n",
    "cbar.ax.tick_params(labelsize=axislabels_fontsize)\n",
    "cbar.set_label(label='Average 6-month unfilled\\nvacancy rate change from the\\nbaseline 2018-2030 (%-point)',\n",
    "              fontsize=axislabels_fontsize)\n",
    "\n",
    "\n",
    "plt.gcf().text(0.82, 0.8, 'Mean\\nwage\\n(BRL)', fontsize=14, ha='center')\n",
    "for i in range(0,9):\n",
    "    plt.gcf().text(0.79, 0.275+i/17.5, int(np.round(np.sort(mean_wage_per_1digit), -1)[i]), fontsize=14)\n",
    "\n",
    "\n",
    "plt.gcf().text(0.13, 0.02, 'High GDP', fontsize=axislabels_fontsize)\n",
    "plt.gcf().text(0.7, 0.02, 'Low GDP', fontsize=axislabels_fontsize)\n",
    "# plt.arrow(10,-1,-10,1)\n",
    "axs.annotate('', xy=(0.22, -0.475), xycoords='axes fraction', xytext=(0.84, -0.475), \n",
    "            arrowprops=dict(arrowstyle=\"<-\", color='black'))\n",
    "\n",
    "if save == True:\n",
    "    plt.savefig('figures/vacancy_heatmap_agr.pdf', bbox_inches='tight')\n",
    "    plt.savefig('figures/vacancy_heatmap_agr.png', bbox_inches='tight')\n",
    "plt.show()\n",
    "\n",
    "\n"
   ]
  },
  {
   "cell_type": "code",
   "execution_count": null,
   "metadata": {},
   "outputs": [],
   "source": [
    "## Split into two\n",
    "f, axs = plt.subplots(1,1, figsize=(7,5))\n",
    "f.tight_layout(pad = 4.5)\n",
    "\n",
    "title_fontsize = 14\n",
    "axislabels_fontsize = 14\n",
    "small_fontsize = 10\n",
    "\n",
    "vmin=-0.65\n",
    "vmax=0.65\n",
    "\n",
    "row_idxs = np.argsort(mean_wage_per_1digit)[::-1]# * -1)\n",
    "col_idxs = np.argsort(gdp_pc_regions)[::-1]# * -1)\n",
    "\n",
    "\n",
    "uplot = axs.imshow((vacs_rate_reg1digit-vacs_rate_bl_reg1digit).T[row_idxs.drop(9),:][:, col_idxs], cmap='PuOr',\n",
    "             vmin=vmin, vmax=vmax, \n",
    "             )\n",
    "# axs.set_title('Agriculture Scenario', fontsize=title_fontsize)\n",
    "\n",
    "axs.set_xticks(range(16))\n",
    "axs.set_xticklabels(np.array(regions)[col_idxs], rotation=45, ha='right', fontsize=axislabels_fontsize, rotation_mode='anchor')\n",
    "\n",
    "axs.set_yticks(range(9))\n",
    "axs.set_yticklabels(cbo_1['TITLE_short'][row_idxs.drop(9)], fontsize=axislabels_fontsize)\n",
    "\n",
    "cbar = plt.colorbar(uplot, ax=axs, fraction=0.03, pad=0.12)\n",
    "cbar.ax.tick_params(labelsize=axislabels_fontsize)\n",
    "cbar.set_label(label='Average 6-month unfilled\\nvacancy rate change from the\\nbaseline 2018-2030 (%-point)',\n",
    "              fontsize=axislabels_fontsize)\n",
    "\n",
    "# plt.gcf().text(0.8, 0.68, 'high\\nwage', fontsize=axislabels_fontsize)\n",
    "# plt.gcf().text(0.8, 0.27, 'low\\nwage', fontsize=axislabels_fontsize)\n",
    "# # plt.arrow(10,-1,-10,1)\n",
    "# axs.annotate('', xy=(1.05, 0.8), xycoords='axes fraction', xytext=(1.05, 0.15), \n",
    "#             arrowprops=dict(arrowstyle=\"<-\", color='black'))\n",
    "\n",
    "\n",
    "plt.gcf().text(0.83, 0.74, 'High\\nwage', fontsize=13, ha='center')\n",
    "plt.gcf().text(0.83, 0.25, 'Low\\nwage', fontsize=13, ha='center')\n",
    "# for i in range(10):\n",
    "#     plt.gcf().text(0.8, 0.25+i/17.5, int(np.round(np.sort(mean_wage_per_1digit), -1)[i]), fontsize=12)\n",
    "axs.annotate('', xy=(1.06, 0.87), xycoords='axes fraction', xytext=(1.06, 0.15), \n",
    "            arrowprops=dict(arrowstyle=\"<-\", color='black'))\n",
    "\n",
    "plt.gcf().text(0.13, 0.02, 'High GDP', fontsize=axislabels_fontsize)\n",
    "plt.gcf().text(0.7, 0.02, 'Low GDP', fontsize=axislabels_fontsize)\n",
    "# plt.arrow(10,-1,-10,1)\n",
    "axs.annotate('', xy=(0.22, -0.475), xycoords='axes fraction', xytext=(0.84, -0.475), \n",
    "            arrowprops=dict(arrowstyle=\"<-\", color='black'))\n",
    "\n",
    "if save == True:\n",
    "    plt.savefig('figures/vacancy_heatmap_sorted_manuf.pdf', bbox_inches='tight')\n",
    "    plt.savefig('figures/vacancy_heatmap_sorted_manuf.png', bbox_inches='tight')\n",
    "plt.show()\n",
    "\n",
    "\n"
   ]
  },
  {
   "cell_type": "code",
   "execution_count": null,
   "metadata": {},
   "outputs": [],
   "source": [
    "f, ax = plt.subplots(1,2, figsize=(7,3))\n",
    "ax[0].bar(range(2), [100, 100], color='tab:olive', \n",
    "          label='between-\\nregion')\n",
    "ax[1].bar(range(2), [100, 100], color='tab:olive', \n",
    "          label='between-\\nregion')\n",
    "\n",
    "ax[0].bar(range(2), [(between_occ_un_manuf+residual_un_manuf)/total_var_un_manuf*100, \n",
    "                      (between_occ_vac_manuf+residual_vac_manuf)/total_var_vac_manuf*100], \n",
    "          color='tab:blue', label='between-\\noccupation')\n",
    "ax[1].bar(range(2), [(between_occ_un_agr+residual_un_agr)/total_var_un_agr*100,\n",
    "                     (between_occ_vac_agr+residual_vac_agr)/total_var_vac_agr*100], \n",
    "          color='tab:blue', label='between-\\noccupation')\n",
    "\n",
    "ax[0].bar(range(2), [residual_un_manuf/total_var_un_manuf*100, residual_vac_manuf/total_var_vac_manuf*100], \n",
    "          color='gray', label='residual')\n",
    "ax[1].bar(range(2), [residual_un_agr/total_var_un_agr*100, residual_vac_agr/total_var_vac_agr*100],\n",
    "          color='gray', label='residual')\n",
    "\n",
    "plt.legend(loc='upper left', bbox_to_anchor=(1.02, 1.05), title='Variance', fontsize=10, title_fontsize=10)\n",
    "\n",
    "for i in range(2):\n",
    "    ax[i].set_ylabel('%', fontsize=10 )\n",
    "    ax[i].yaxis.set_label_coords(-0.12,0.5)\n",
    "#     ax[i].set_xticks([0,1], ['2018-2030 Average \\nunemployment rate\\n change from baseline', \n",
    "#                              '2018-2030 Average\\n unfilled vacancy rate\\n change from baseline'], fontsize=14)\n",
    "    ax[i].set_xticks([0,1], \n",
    "        ['Unemployment\\nrate\\n                              (average 2018-2030 change\\n                          from baseline)', \n",
    "                             'Unfilled\\nvacancy rate'], fontsize=10, linespacing=1.5)\n",
    "#     ax[i].set_yticks([70,75,80,85,90,95,100], fontsize=20)\n",
    "#     ax[i].set_ylim(70,101)\n",
    "\n",
    "for i,vars_list in enumerate([[between_reg_un_manuf, between_occ_un_manuf,residual_un_manuf,total_var_un_manuf,\n",
    "    between_reg_vac_manuf, between_occ_vac_manuf,residual_vac_manuf,total_var_vac_manuf],\n",
    "                              [between_reg_un_agr, between_occ_un_agr,residual_un_agr,total_var_un_agr,\n",
    "    between_reg_vac_agr, between_occ_vac_agr,residual_vac_agr,total_var_vac_agr]\n",
    "    ]):\n",
    "    k = 0\n",
    "    for j in [0,4]:\n",
    "    \n",
    "        ax[i].annotate(str(np.round(vars_list[j]/vars_list[j+3]*100,1))+'%', \n",
    "               xy=(k,100-vars_list[j]/vars_list[j+3]*100/2),fontsize=10, \n",
    "               c='black', zorder=6, ha='center', va='center')#fontweight='bold')  \n",
    "        \n",
    "        ax[i].annotate(str(np.round(vars_list[j+1]/vars_list[j+3]*100,1))+'%', \n",
    "               xy=(k,vars_list[j+1]/vars_list[j+3]*100/2+vars_list[j+2]/vars_list[j+3]*100),fontsize=10, \n",
    "               c='white', zorder=6, ha='center')#fontweight='bold')  \n",
    "        \n",
    "        ax[i].annotate(str(np.round(vars_list[j+2]/vars_list[j+3]*100,1))+'%', \n",
    "               xy=(k,vars_list[j+2]/vars_list[j+3]*100/2),fontsize=10, \n",
    "               c='white', zorder=6, ha='center')#fontweight='bold')  \n",
    "        k += 1\n",
    "\n",
    "# ax[0].spines['top'].set_visible(False)\n",
    "# ax[0].spines['right'].set_visible(False)\n",
    "\n",
    "# ax[1].spines['top'].set_visible(False)\n",
    "# ax[1].spines['right'].set_visible(False)\n",
    "        \n",
    "ax[0].set_title('Manufacturing growth path', fontsize=10)\n",
    "ax[1].set_title('Agriculture growth path', fontsize=10)\n",
    "if save == True:\n",
    "    plt.savefig('figures/variance_decomposition.pdf', bbox_inches='tight')\n",
    "    plt.savefig('figures/variance_decomposition.png', bbox_inches='tight')\n",
    "plt.show()"
   ]
  },
  {
   "cell_type": "markdown",
   "metadata": {},
   "source": [
    "## Reallocation through time"
   ]
  },
  {
   "cell_type": "code",
   "execution_count": null,
   "metadata": {},
   "outputs": [],
   "source": [
    "# to get the unemployment rate we sum over all occupations and divide by labor\n",
    "# force (x100 to make it percentage)\n",
    "unemployment_rate = 100*results_dict_norm_to_bl['Cen2BAseq']['U'].sum(axis=1)/L\n",
    "unemployment_rate_agr = 100*results_dict_norm_to_bl['Cen2Aseq']['U'].sum(axis=1)/L\n",
    "unemployment_rate_manuf = 100*results_dict_norm_to_bl['Cen5Aseq']['U'].sum(axis=1)/L\n",
    "\n",
    "fig, ax1 = plt.subplots(figsize=(4,3))\n",
    "\n",
    "ax1.plot(unemployment_rate, label='Baseline', color='tab:blue')\n",
    "ax1.plot(unemployment_rate_manuf, label='Manufacturing growth path', color='tab:orange')\n",
    "ax1.plot(unemployment_rate_agr, label='Agriculture growth path', color='tab:green')\n",
    "ax1.tick_params(axis='y', labelcolor='k')\n",
    "\n",
    "# ax2 = ax1.twinx()\n",
    "\n",
    "# cols = ['tab:blue', 'tab:green', 'tab:orange']\n",
    "# markers = ['s', 'o', '^']\n",
    "\n",
    "\n",
    "# handles, labels = ax.get_legend_handles_labels()\n",
    "ax1.legend(loc='upper left')\n",
    "\n",
    "# plt.title('Regional occupational mobility network')\n",
    "plt.xlabel(\"Time\")\n",
    "plt.xlim(t_start,t_end)\n",
    "plt.xticks(np.arange(t_start, t_end+1, 13), years, rotation=45)\n",
    "\n",
    "ax1.set_ylim(6.2,6.4)\n",
    "ax1.set_ylabel(\"Unemployment rate (%)\")\n",
    "\n",
    "# ax2.set_ylabel('Labour reallocation')\n",
    "ax1.spines['top'].set_visible(False)\n",
    "ax1.spines['right'].set_visible(False)\n",
    "\n",
    "\n",
    "if save == True:\n",
    "    plt.savefig('figures/aggregate_unemp_omng.png', bbox_inches='tight')\n",
    "    plt.savefig('figures/aggregate_unemp_omng.pdf', bbox_inches='tight')\n",
    "plt.show()"
   ]
  },
  {
   "cell_type": "code",
   "execution_count": null,
   "metadata": {},
   "outputs": [],
   "source": [
    "save = True"
   ]
  },
  {
   "cell_type": "code",
   "execution_count": null,
   "metadata": {},
   "outputs": [],
   "source": [
    "scenarios"
   ]
  },
  {
   "cell_type": "code",
   "execution_count": null,
   "metadata": {},
   "outputs": [],
   "source": [
    "plot_data_demand = pd.DataFrame()"
   ]
  },
  {
   "cell_type": "code",
   "execution_count": null,
   "metadata": {},
   "outputs": [],
   "source": [
    "# to get the unemployment rate we sum over all occupations and divide by labor\n",
    "# force (x100 to make it percentage)\n",
    "unemployment_rate = 100*results_dict_norm_to_bl['Cen2BAseq']['U'].sum(axis=1)/L\n",
    "unemployment_rate_agr = 100*results_dict_norm_to_bl['Cen2Aseq']['U'].sum(axis=1)/L\n",
    "unemployment_rate_manuf = 100*results_dict_norm_to_bl['Cen5Aseq']['U'].sum(axis=1)/L\n",
    "\n",
    "fig, ax1 = plt.subplots(figsize=(4,3))\n",
    "\n",
    "# ax1.plot(unemployment_rate, label='Baseline', color='tab:blue')\n",
    "# ax1.plot(unemployment_rate_manuf, label='Manufacturing growth path', color='tab:orange')\n",
    "# ax1.plot(unemployment_rate_agr, label='Agriculture growth path', color='tab:green')\n",
    "# ax1.tick_params(axis='y', labelcolor='k')\n",
    "\n",
    "# ax2 = ax1.twinx()\n",
    "\n",
    "cols = ['tab:blue', 'tab:orange', 'tab:green']\n",
    "markers = ['s', 'o', '^']\n",
    "\n",
    "for j, (scn, lab) in enumerate(zip(['Cen2BAseq', 'Cen5Aseq', 'Cen2Aseq'], ['Baseline', 'Manufacturing growth path',\n",
    "                                                'Agriculture growth path'])):\n",
    "## get entries where x_data_0 > 0 and per 1-digit ocupation \n",
    "## sum for each occupation\n",
    "    increase_demand = np.zeros(12)\n",
    "    for i, year in enumerate(years[:-1]):\n",
    "        year_change = (scenario_dict_norm_to_bl[scn].loc[year+1]-scenario_dict_norm_to_bl[scn].loc[year]\n",
    "              ).reset_index(drop=True)\n",
    "        increase_demand[i] = np.sum(year_change.iloc[list(np.where((year_change>0)\n",
    "                                                                     &(results_df['emp_0']>1000))[0])])\n",
    "\n",
    "    ax1.scatter(np.arange(t_start+13/2, t_end, 13), increase_demand/(1e6), color=cols[j], marker=markers[j],\n",
    "               label=lab)\n",
    "    plot_data_demand[scn] = increase_demand\n",
    "\n",
    "ax1.tick_params(axis='y', labelcolor='k')\n",
    "\n",
    "# handles, labels = ax.get_legend_handles_labels()\n",
    "ax1.legend()\n",
    "\n",
    "# plt.title('Regional occupational mobility network')\n",
    "plt.xlabel(\"Time\")\n",
    "plt.xlim(t_start,t_end)\n",
    "plt.xticks(np.arange(t_start, t_end+1, 13), years, rotation=45)\n",
    "\n",
    "# ax1.set_ylim(6.2,6.4)\n",
    "# ax1.set_ylabel(\"Unemployment rate (%)\")\n",
    "\n",
    "ax1.spines['top'].set_visible(False)\n",
    "ax1.spines['right'].set_visible(False)\n",
    "\n",
    "ax1.set_ylabel('Labour reallocation (million jobs)')\n",
    "\n",
    "\n",
    "if save == True:\n",
    "    plt.savefig('figures/aggregate_reallocation.png', bbox_inches='tight')\n",
    "    plt.savefig('figures/aggregate_reallocation.pdf', bbox_inches='tight')\n",
    "plt.show()"
   ]
  },
  {
   "cell_type": "code",
   "execution_count": null,
   "metadata": {},
   "outputs": [],
   "source": []
  },
  {
   "cell_type": "markdown",
   "metadata": {},
   "source": [
    "## Maps"
   ]
  },
  {
   "cell_type": "code",
   "execution_count": null,
   "metadata": {},
   "outputs": [],
   "source": [
    "region_df_for_pt = pd.DataFrame({'GDP per\\ncapita': np.array(gdp_pc_regions).round(2),\n",
    "#                                  'Higher-emissions\\nscenario': np.array(reg_diff_0).astype(int),\n",
    "#                                  'Lower-emissions\\nscenario': np.array(reg_diff).astype(int), \n",
    "                                 'Agriculture\\ngrowth path': unemp_rate_0_reg_perc.round(2), \n",
    "                                 'Manufacturing\\ngrowth path': unemp_rate_reg_perc.round(2),\n",
    "                                 'reg vacs agr': vacs_rate_0_reg_perc.round(2), \n",
    "                                 'reg vacs manuf': vacs_rate_reg_perc.round(2)}\n",
    "             , index=regions)"
   ]
  },
  {
   "cell_type": "code",
   "execution_count": null,
   "metadata": {},
   "outputs": [],
   "source": [
    "cols = region_df_for_pt.columns"
   ]
  },
  {
   "cell_type": "code",
   "execution_count": null,
   "metadata": {},
   "outputs": [],
   "source": [
    "region_df_for_pt.index.name = 'Region'"
   ]
  },
  {
   "cell_type": "code",
   "execution_count": null,
   "metadata": {},
   "outputs": [],
   "source": [
    "region_df_for_pt"
   ]
  },
  {
   "cell_type": "code",
   "execution_count": null,
   "metadata": {},
   "outputs": [],
   "source": [
    "brazil_gdf = gpd.read_file(data_path+'brazil_shapefile/bra_admbnda_adm1_ibge_2020.shp')"
   ]
  },
  {
   "cell_type": "code",
   "execution_count": null,
   "metadata": {
    "scrolled": true
   },
   "outputs": [],
   "source": [
    "brazil_gdf"
   ]
  },
  {
   "cell_type": "code",
   "execution_count": null,
   "metadata": {},
   "outputs": [],
   "source": [
    "regs_for_map = ['Acre', 'RNordeste', 'Amapa', 'Amazonas', 'Bahia', 'RNordeste', 'GoiasDF', 'RSudeste',\n",
    "'GoiasDF', 'Matopiba', 'MtGrosso', 'MtGrSul', 'RSudeste', 'Para', 'RNordeste', 'Parana',\n",
    "'RNordeste', 'Matopiba', 'RSudeste', 'RNordeste', 'RSul', 'Rondonia', 'Roraima', 'RSul', \n",
    "'SaoPaulo', 'RNordeste', 'Matopiba']"
   ]
  },
  {
   "cell_type": "code",
   "execution_count": null,
   "metadata": {},
   "outputs": [],
   "source": [
    "brazil_gdf['model_regions'] = regs_for_map"
   ]
  },
  {
   "cell_type": "code",
   "execution_count": null,
   "metadata": {
    "scrolled": true
   },
   "outputs": [],
   "source": [
    "brazil_gdf"
   ]
  },
  {
   "cell_type": "code",
   "execution_count": null,
   "metadata": {},
   "outputs": [],
   "source": [
    "region_df_for_pt"
   ]
  },
  {
   "cell_type": "code",
   "execution_count": null,
   "metadata": {},
   "outputs": [],
   "source": [
    "# region_df_for_pt = pd.DataFrame({'GDP per\\ncapita': np.array(gdp_pc_regions).round(2),\n",
    "# #                                  'Higher-emissions\\nscenario': np.array(reg_diff_0).astype(int),\n",
    "# #                                  'Lower-emissions\\nscenario': np.array(reg_diff).astype(int), \n",
    "#                                  'Higher-\\nemissions': unemp_rate_0_reg_perc.round(2), \n",
    "#                                  'Lower-\\nemissions': unemp_rate_reg_perc.round(2),\n",
    "#                                  'reg vacs agr': vacs_rate_0_reg_perc.round(2), \n",
    "#                                  'reg vacs manuf': vacs_rate_reg_perc.round(2)}\n",
    "#              , index=regions)\n",
    "brazil_gdf['y_agr'] = [region_df_for_pt.loc[reg, 'Agriculture\\ngrowth path'] for reg in regs_for_map]\n",
    "brazil_gdf['y_manuf'] = [region_df_for_pt.loc[reg, 'Manufacturing\\ngrowth path'] for reg in regs_for_map]\n",
    "brazil_gdf['vacs_agr'] = [region_df_for_pt.loc[reg, 'reg vacs agr'] for reg in regs_for_map]\n",
    "brazil_gdf['vacs_manuf'] = [region_df_for_pt.loc[reg, 'reg vacs manuf'] for reg in regs_for_map]"
   ]
  },
  {
   "cell_type": "code",
   "execution_count": null,
   "metadata": {},
   "outputs": [],
   "source": [
    "region_df_for_pt.head()"
   ]
  },
  {
   "cell_type": "code",
   "execution_count": null,
   "metadata": {},
   "outputs": [],
   "source": [
    "# save = True"
   ]
  },
  {
   "cell_type": "code",
   "execution_count": null,
   "metadata": {},
   "outputs": [],
   "source": [
    "fig, ax = plt.subplots(1,1,figsize=(4,4))\n",
    "ax = brazil_gdf.plot(column='y_agr', legend=True, categorical=False, cmap='RdBu_r', \n",
    "               legend_kwds={'label':'2018-2030 Average\\nunemployment rate change\\nfrom baseline (%-point)', \n",
    "                            'orientation': 'horizontal',                            'shrink':0.8, \n",
    "                            'pad':0.02\n",
    "                           }, ax=ax, vmin=-np.max(unemp_rate_0_reg_perc), \n",
    "                     vmax=np.max(unemp_rate_0_reg_perc), \n",
    "                     edgecolor='black', linewidth=0.1)\n",
    "ax.axis('off')\n",
    "cb_ax = fig.axes[1]\n",
    "cb_ax.tick_params(labelsize=10, labelcolor='black')\n",
    "# plt.title('Agriculture growth path')\n",
    "if save == True:\n",
    "    plt.savefig('figures/unemp_map_agr.pdf', bbox_inches='tight')\n",
    "    plt.savefig('figures/unemp_map_agr.png', bbox_inches='tight')\n",
    "plt.show()"
   ]
  },
  {
   "cell_type": "code",
   "execution_count": null,
   "metadata": {},
   "outputs": [],
   "source": [
    "fig, ax = plt.subplots(1,1,figsize=(4,4))\n",
    "ax = brazil_gdf.plot(column='y_manuf', legend=True, categorical=False, cmap='RdBu_r', \n",
    "               legend_kwds={'label':'2018-2030 Average\\nunemployment rate change\\nfrom baseline (%-point)',\n",
    "                            'orientation': 'horizontal', \n",
    "                           'shrink':0.8, \n",
    "                            'pad':0.02\n",
    "                           }, ax=ax, \n",
    "                     vmin=-np.max(unemp_rate_0_reg_perc), \n",
    "                     vmax=np.max(unemp_rate_0_reg_perc),\n",
    "                     edgecolor='black', linewidth=0.1)\n",
    "ax.axis('off')\n",
    "cb_ax = fig.axes[1]\n",
    "cb_ax.tick_params(labelsize=10, labelcolor='black')\n",
    "# plt.title('Manufacturing growth path')\n",
    "if save == True:\n",
    "    plt.savefig('figures/unemp_map_manuf.pdf', bbox_inches='tight')\n",
    "    plt.savefig('figures/unemp_map_manuf.png', bbox_inches='tight')\n",
    "plt.show()"
   ]
  },
  {
   "cell_type": "code",
   "execution_count": null,
   "metadata": {},
   "outputs": [],
   "source": [
    "fig, ax = plt.subplots(1,1,figsize=(4,4))\n",
    "ax = brazil_gdf.plot(column='vacs_agr', legend=True, categorical=False, cmap='PuOr', \n",
    "               legend_kwds={'label':'2018-2030 Average 6-month\\nunfilled vacancy rate change\\nfrom baseline (%-point)', 'orientation': 'horizontal', \n",
    "                           'shrink':0.8, \n",
    "                            'pad':0.02}, ax=ax, \n",
    "                     vmin=-np.max(vacs_rate_0_reg_perc), \n",
    "                     vmax=np.max(vacs_rate_0_reg_perc), \n",
    "                     edgecolor='black', linewidth=0.1)\n",
    "ax.axis('off')\n",
    "cb_ax = fig.axes[1]\n",
    "cb_ax.tick_params(labelsize=10, labelcolor='black')\n",
    "# plt.title('Agriculture growth path')\n",
    "if save == True:\n",
    "    plt.savefig('figures/vacancy_map_agr.pdf', bbox_inches='tight')\n",
    "    plt.savefig('figures/vacancy_map_agr.png', bbox_inches='tight')\n",
    "plt.show()"
   ]
  },
  {
   "cell_type": "code",
   "execution_count": null,
   "metadata": {},
   "outputs": [],
   "source": [
    "fig, ax = plt.subplots(1,1,figsize=(4,4))\n",
    "ax = brazil_gdf.plot(column='vacs_manuf', legend=True, categorical=False, cmap='PuOr', \n",
    "               legend_kwds={'orientation': 'horizontal', \n",
    "                            'label':'2018-2030 Average 6-month\\nunfilled vacancy rate change\\nfrom baseline (%-point)',\n",
    "                           'shrink':0.8, \n",
    "                            'pad':0.02\n",
    "                           }, \n",
    "                     ax=ax, \n",
    "                     vmin=-np.max(vacs_rate_0_reg_perc), \n",
    "                     vmax=np.max(vacs_rate_0_reg_perc),\n",
    "                     edgecolor='black', linewidth=0.1)\n",
    "ax.axis('off')\n",
    "cb_ax = fig.axes[1]\n",
    "cb_ax.tick_params(labelsize=10, labelcolor='black')\n",
    "# cb_ax.set_title(label='2018-2030 Average 6-month\\nunfilled vacancy rate change\\nfrom baseline (%-point)', \n",
    "#                 fontdict={'fontsize':8},, va='top')\n",
    "# plt.title('Manufacturing growth path')\n",
    "if save == True:\n",
    "    plt.savefig('figures/vacancy_map_manuf.pdf', bbox_inches='tight')\n",
    "    plt.savefig('figures/vacancy_map_manuf.png', bbox_inches='tight')\n",
    "plt.show()## table"
   ]
  },
  {
   "cell_type": "code",
   "execution_count": null,
   "metadata": {},
   "outputs": [],
   "source": []
  },
  {
   "cell_type": "markdown",
   "metadata": {},
   "source": [
    "## Occupation table"
   ]
  },
  {
   "cell_type": "code",
   "execution_count": null,
   "metadata": {},
   "outputs": [],
   "source": [
    "# ## create new plot:\n",
    "unemp_rate_bl_1digit = period_occ_u_rate(results_dict_1digit['Cen2BAseq']['E'],\n",
    "                               results_dict_1digit['Cen2BAseq']['U'], t_start, t_end)\n",
    "\n",
    "unemp_rate_0_1digit = period_occ_u_rate(results_dict_1digit['Cen2Aseq']['E'],\n",
    "                               results_dict_1digit['Cen2Aseq']['U'], t_start, t_end)\n",
    "\n",
    "unemp_rate_1digit = period_occ_u_rate(results_dict_1digit['Cen5Aseq']['E'],\n",
    "                               results_dict_1digit['Cen5Aseq']['U'], t_start, t_end)\n",
    "unemp_rate_0_1digit_perc = np.array(100*(unemp_rate_0_1digit-unemp_rate_bl_1digit) / unemp_rate_bl_1digit)\n",
    "unemp_rate_1digit_perc = np.array(100*(unemp_rate_1digit-unemp_rate_bl_1digit) / unemp_rate_bl_1digit)\n",
    "\n",
    "# ## create new plot:\n",
    "# # baseline vacancy rate ------ scenario vacancy rate\n",
    "unemp_rate_bl_reg = period_occ_u_rate(results_dict_reg['Cen2BAseq']['E'],\n",
    "                               results_dict_reg['Cen2BAseq']['U'], t_start, t_end)\n",
    "\n",
    "unemp_rate_0_reg = period_occ_u_rate(results_dict_reg['Cen2Aseq']['E'],\n",
    "                               results_dict_reg['Cen2Aseq']['U'], t_start, t_end)\n",
    "\n",
    "unemp_rate_reg = period_occ_u_rate(results_dict_reg['Cen5Aseq']['E'],\n",
    "                               results_dict_reg['Cen5Aseq']['U'], t_start, t_end)\n",
    "unemp_rate_0_reg_perc = np.array(100*(unemp_rate_0_reg-unemp_rate_bl_reg) / unemp_rate_bl_reg)\n",
    "unemp_rate_reg_perc = np.array(100*(unemp_rate_reg-unemp_rate_bl_reg) / unemp_rate_bl_reg)\n",
    "# pd.DataFrame({'occ_1 unemp agr': unemp_rate_0_1digit_perc[row_idxs], \n",
    "#               'occ_1 unemp manuf': unemp_rate_1digit_perc[row_idxs], \n",
    "#               #'reg vacs agr': vacs_rate_0_reg_perc, 'reg vacs manuf': vacs_rate_reg_perc}\n",
    "#              }, index=cbo_1.TITLE[row_idxs]).style.background_gradient(cmap='RdBu_r', \n",
    "#                                                                 vmin=-2.777843, vmax=2.777843)\n",
    "                \n"
   ]
  },
  {
   "cell_type": "code",
   "execution_count": null,
   "metadata": {},
   "outputs": [],
   "source": [
    "## table\n",
    "\n",
    "from plottable import ColumnDefinition, Table\n",
    "from plottable.cmap import normed_cmap, centered_cmap\n",
    "from plottable.formatters import decimal_to_percent\n",
    "from plottable.plots import circled_image, bar # image\n"
   ]
  },
  {
   "cell_type": "code",
   "execution_count": null,
   "metadata": {},
   "outputs": [],
   "source": [
    "cbo_1['TITLE_wrapped'] = ['Military workers', 'Managers',\n",
    " 'Professionals of\\nsciences and arts',\n",
    " 'Middle-level\\ntechnicians',\n",
    " 'Administrative\\nworkers',\n",
    " 'Service workers',\n",
    " 'Agricultural, forestry and\\nfisheries workers',\n",
    " 'Industrial goods and\\nservices workers (craft)',\n",
    " 'Industrial goods and\\nservices workers (machine)',\n",
    " 'Repair and\\nmaintenance workers']"
   ]
  },
  {
   "cell_type": "code",
   "execution_count": null,
   "metadata": {},
   "outputs": [],
   "source": [
    "cbo_1['TITLE_short'] = ['Military workers', 'Managers',\n",
    " 'Professionals of sciences and arts',\n",
    " 'Middle-level technicians',\n",
    " 'Administrative workers',\n",
    " 'Service workers',\n",
    " 'Agricultural workers',\n",
    " 'Industrial goods  workers (craft)',\n",
    " 'Industrial goods workers (machine)',\n",
    " 'Repair and maintenance workers']"
   ]
  },
  {
   "cell_type": "code",
   "execution_count": null,
   "metadata": {},
   "outputs": [],
   "source": [
    "len(vacs_rate_0_1digit_perc.round(2))"
   ]
  },
  {
   "cell_type": "code",
   "execution_count": null,
   "metadata": {},
   "outputs": [],
   "source": []
  },
  {
   "cell_type": "code",
   "execution_count": null,
   "metadata": {},
   "outputs": [],
   "source": [
    "occ1_df_for_pt = pd.DataFrame({'Mean wage\\n(BRL)': np.array(mean_wage_per_1digit).astype(int),\n",
    "#                                  'Higher-emissions\\nscenario': np.array(occ_1_diff_0).astype(int),\n",
    "#                                  'Lower-emissions\\nscenario': np.array(occ_1_diff).astype(int), \n",
    "                                 \n",
    "                                 'Manufacturing\\ngrowth path': unemp_rate_1digit_perc.round(2),\n",
    "                               'Agriculture\\ngrowth path': unemp_rate_0_1digit_perc.round(2), \n",
    "                                 'reg\\nmanuf': vacs_rate_1digit_perc.round(2), \n",
    "                                 'reg\\nagr': vacs_rate_0_1digit_perc.round(2)}\n",
    "             , index=cbo_1.TITLE_wrapped)\n",
    "occ1_df_for_pt.index.name = 'Occupational\\nGroup'"
   ]
  },
  {
   "cell_type": "code",
   "execution_count": null,
   "metadata": {},
   "outputs": [],
   "source": [
    "occ1_df_for_pt.drop('Military workers', inplace=True)"
   ]
  },
  {
   "cell_type": "code",
   "execution_count": null,
   "metadata": {},
   "outputs": [],
   "source": [
    "occ1_df_for_pt"
   ]
  },
  {
   "cell_type": "code",
   "execution_count": null,
   "metadata": {},
   "outputs": [],
   "source": [
    "alph = 1\n",
    "\n",
    "group_dict = {'unemp': '2018-2030 Average\\nunemployment\\nrate change from\\nbaseline (%-point)',\n",
    "            'vacs': '2018-2030 Average\\n6-month unfilled vacancy\\nrate change from\\nbaseline (%-point)',\n",
    "            'demand': 'Demand change\\nfrom baseline in 2030'\n",
    "            }"
   ]
  },
  {
   "cell_type": "code",
   "execution_count": null,
   "metadata": {},
   "outputs": [],
   "source": [
    "col_defs = (\n",
    "    [\n",
    "        ColumnDefinition(\n",
    "            name=\"Occupational\\nGroup\",\n",
    "            textprops={\"ha\": \"left\", \"weight\": \"bold\"},\n",
    "            width=2.8,\n",
    "        ),\n",
    "        ColumnDefinition(\n",
    "            name=\"Mean wage\\n(BRL)\",\n",
    "            textprops={\"ha\": \"center\"},\n",
    "            formatter=\"{:,}\",\n",
    "#             width=0.75,\n",
    "        ),\n",
    "        ColumnDefinition(\n",
    "            name=\"Agriculture\\ngrowth path\",\n",
    "#             width=0.75,\n",
    "            textprops={\n",
    "                \"ha\": \"center\",\n",
    "                \"bbox\": {\"boxstyle\": \"round\", \"pad\": 0.35, \"alpha\":alph},\n",
    "            },\n",
    "            cmap=centered_cmap(np.array([-np.max(occ1_df_for_pt['Agriculture\\ngrowth path']), \n",
    "                                np.max(occ1_df_for_pt['Agriculture\\ngrowth path'])]),\n",
    "                               cmap=matplotlib.cm.RdBu_r, \n",
    "                               num_stds = 1,\n",
    "#                                num_stds=np.max(occ1_df_for_pt['Agriculture\\ngrowth path'])\n",
    "                              ),\n",
    "            group=group_dict['unemp'],\n",
    "            formatter=\"{:.2f}\",\n",
    "        ),\n",
    "        ColumnDefinition(\n",
    "            name=\"Manufacturing\\ngrowth path\",\n",
    "#             width=0.75,\n",
    "            textprops={\n",
    "                \"ha\": \"center\",\n",
    "                \"bbox\": {\"boxstyle\": \"round\", \"pad\": 0.35, \"alpha\":alph},\n",
    "                \n",
    "            },\n",
    "            cmap=centered_cmap(np.array([-np.max(occ1_df_for_pt['Agriculture\\ngrowth path']), \n",
    "                                np.max(occ1_df_for_pt['Agriculture\\ngrowth path'])]),\n",
    "                               cmap=matplotlib.cm.RdBu_r, \n",
    "                               num_stds = 1,\n",
    "#                                num_stds=np.max(occ1_df_for_pt['Agriculture\\ngrowth path'])\n",
    "                              ),\n",
    "            group=group_dict['unemp'],\n",
    "                        border=\"left\",\n",
    "            formatter=\"{:.2f}\",\n",
    "        ),\n",
    "    ]\n",
    "    + [\n",
    "        ColumnDefinition(\n",
    "            name=\"reg\\nagr\",\n",
    "#             width=0.75,\n",
    "            textprops={\n",
    "                \"ha\": \"center\",\n",
    "                \"bbox\": {\"boxstyle\": \"round\", \"pad\": 0.35, \"alpha\":alph},\n",
    "            },\n",
    "            cmap=centered_cmap(np.array([np.min(occ1_df_for_pt['reg\\nagr']), \n",
    "                                -np.min(occ1_df_for_pt['reg\\nagr'])]),\n",
    "                               cmap=matplotlib.cm.PuOr, \n",
    "                               num_stds = 1,\n",
    "#                                num_stds=-np.min(occ1_df_for_pt['reg\\nagr'])\n",
    "                              ),\n",
    "            group=group_dict['vacs'],\n",
    "            formatter=\"{:.2f}\",\n",
    "        ),\n",
    "        ColumnDefinition(\n",
    "            name=\"reg\\nmanuf\",\n",
    "#             width=0.75,\n",
    "            textprops={\n",
    "                \"ha\": \"center\",\n",
    "                \"bbox\": {\"boxstyle\": \"round\", \"pad\": 0.35, \"alpha\":alph},\n",
    "            },\n",
    "            cmap=centered_cmap(np.array([np.min(occ1_df_for_pt['reg\\nagr']), \n",
    "                                -np.min(occ1_df_for_pt['reg\\nagr'])]),\n",
    "                               cmap=matplotlib.cm.PuOr, \n",
    "                               num_stds = 1,\n",
    "#                                num_stds=-np.min(occ1_df_for_pt['reg\\nagr'])\n",
    "                              ),\n",
    "            group=group_dict['vacs'],\n",
    "                        border=\"left\",\n",
    "\n",
    "            formatter=\"{:.2f}\",\n",
    "        ),\n",
    "    ]\n",
    ")"
   ]
  },
  {
   "cell_type": "code",
   "execution_count": null,
   "metadata": {},
   "outputs": [],
   "source": [
    "save_table = True #True #False"
   ]
  },
  {
   "cell_type": "code",
   "execution_count": null,
   "metadata": {},
   "outputs": [],
   "source": [
    "fig, ax = plt.subplots(figsize=(9, 5)) ##18, 10\n",
    "\n",
    "table = Table(\n",
    "    occ1_df_for_pt.sort_values('Mean wage\\n(BRL)', ascending=False),\n",
    "    column_definitions=col_defs,\n",
    "    row_dividers=True,\n",
    "    footer_divider=True,\n",
    "    ax=ax,\n",
    "    textprops={\"fontsize\": 10}, ##14\n",
    "    cell_kw = {\"alpha\": 0.5},\n",
    "    row_divider_kw={\"linewidth\": 1, \"linestyle\": (0, (1, 5))},\n",
    "    col_label_divider_kw={\"linewidth\": 1, \"linestyle\": \"-\"},\n",
    "    column_border_kw={\"linewidth\": 1, \"linestyle\": \"-\"},\n",
    ").autoset_fontcolors()#colnames=[\"OFF\", \"DEF\"])\n",
    "\n",
    "# plt.annotate('here', (0,0))\n",
    "if save_table == True:\n",
    "    fig.savefig(\"figures/occ1_table_results.pdf\", facecolor=ax.get_facecolor(), dpi=200, bbox_inches='tight')\n",
    "    fig.savefig(\"figures/occ1_table_results.png\", facecolor=ax.get_facecolor(), dpi=200, bbox_inches='tight')"
   ]
  },
  {
   "cell_type": "code",
   "execution_count": null,
   "metadata": {},
   "outputs": [],
   "source": [
    "plt.scatter(range(10), occ1_df_for_pt['Agriculture\\ngrowth path'], c=occ1_df_for_pt['Agriculture\\ngrowth path'],\n",
    "           cmap='RdBu_r', vmin=-np.max(occ1_df_for_pt['Agriculture\\ngrowth path']))\n",
    "\n",
    "plt.colorbar(label='2018-2030 Average unemployment\\nrate change from baseline (%-point)')\n",
    "if save_table == True:\n",
    "    plt.savefig('figures/unemp_colorbar_for_occ1table.pdf', bbox_inches='tight')\n",
    "    plt.savefig('figures/unemp_colorbar_for_occ1table.png', bbox_inches='tight')\n",
    "plt.show()"
   ]
  },
  {
   "cell_type": "code",
   "execution_count": null,
   "metadata": {},
   "outputs": [],
   "source": [
    "plt.scatter(range(10), occ1_df_for_pt['reg\\nagr'], c=occ1_df_for_pt['reg\\nagr'],\n",
    "           cmap='PuOr', vmax=-np.min(occ1_df_for_pt['reg\\nagr']))\n",
    "plt.colorbar(label='2018-2030 Average 6-month unfilled\\nvacancy rate change from baseline (%-point)')\n",
    "if save_table == True:\n",
    "    plt.savefig('figures/vacs_colorbar_for_occ1table.pdf', bbox_inches='tight')\n",
    "    plt.savefig('figures/vacs_colorbar_for_occ1table.png', bbox_inches='tight')\n",
    "plt.show()"
   ]
  },
  {
   "cell_type": "markdown",
   "metadata": {},
   "source": [
    "## Scenarios "
   ]
  },
  {
   "cell_type": "code",
   "execution_count": null,
   "metadata": {},
   "outputs": [],
   "source": [
    "save"
   ]
  },
  {
   "cell_type": "code",
   "execution_count": null,
   "metadata": {},
   "outputs": [],
   "source": [
    "scn = scenarios[1:2][0]\n",
    "jobs_created_0 = np.sum(np.array((scenario_dict_norm_to_bl[scn].loc[2030] - \n",
    "                           scenario_dict_norm_to_bl['Cen2BAseq'].loc[2030]).values)[np.where(x_data_0>0)[0]])\n",
    "jobs_lost_0 = np.sum(np.array((scenario_dict_norm_to_bl[scn].loc[2030] - \n",
    "                           scenario_dict_norm_to_bl['Cen2BAseq'].loc[2030]).values)[np.where(x_data_0<=0)[0]])\n",
    "\n",
    "scn = scenarios[2:3][0]\n",
    "jobs_created = np.sum(np.array((scenario_dict_norm_to_bl[scn].loc[2030] - \n",
    "                           scenario_dict_norm_to_bl['Cen2BAseq'].loc[2030]).values)[np.where(x_data>0)[0]])\n",
    "jobs_lost = np.sum(np.array((scenario_dict_norm_to_bl[scn].loc[2030] - \n",
    "                           scenario_dict_norm_to_bl['Cen2BAseq'].loc[2030]).values)[np.where(x_data<=0)[0]])\n"
   ]
  },
  {
   "cell_type": "code",
   "execution_count": null,
   "metadata": {},
   "outputs": [],
   "source": [
    "print('jobs created agr', jobs_created_0)\n",
    "print('jobs lost agr', jobs_lost_0)\n",
    "\n",
    "print('jobs created manuf', jobs_created)\n",
    "print('jobs lost manuf', jobs_lost)"
   ]
  },
  {
   "cell_type": "code",
   "execution_count": null,
   "metadata": {},
   "outputs": [],
   "source": [
    "scn = scenarios[1:2][0]\n",
    "jobs_created_0_large = np.sum(np.array((scenario_dict_norm_to_bl[scn].loc[2030] - \n",
    "                           scenario_dict_norm_to_bl['Cen2BAseq'].loc[2030]).iloc[large_occs].values)[\n",
    "                                np.where(x_data_0.iloc[large_occs]>0)[0]])\n",
    "jobs_lost_0_large = np.sum(np.array((scenario_dict_norm_to_bl[scn].loc[2030] - \n",
    "                           scenario_dict_norm_to_bl['Cen2BAseq'].loc[2030]).iloc[large_occs].values)[\n",
    "                                np.where(x_data_0.iloc[large_occs]<=0)[0]])\n",
    "\n",
    "scn = scenarios[2:3][0]\n",
    "jobs_created_large = np.sum(np.array((scenario_dict_norm_to_bl[scn].loc[2030] - \n",
    "                           scenario_dict_norm_to_bl['Cen2BAseq'].loc[2030]).iloc[large_occs].values)[\n",
    "                                np.where(x_data_0.iloc[large_occs]>0)[0]])\n",
    "\n",
    "jobs_lost_large = np.sum(np.array((scenario_dict_norm_to_bl[scn].loc[2030] - \n",
    "                           scenario_dict_norm_to_bl['Cen2BAseq'].loc[2030]).iloc[large_occs].values)[\n",
    "                                np.where(x_data_0.iloc[large_occs]<=0)[0]])\n"
   ]
  },
  {
   "cell_type": "code",
   "execution_count": null,
   "metadata": {},
   "outputs": [],
   "source": [
    "print('jobs created agr', jobs_created_0_large)\n",
    "print('jobs lost agr', jobs_lost_0_large)\n",
    "\n",
    "print('jobs created manuf', jobs_created_large)\n",
    "print('jobs lost manuf', jobs_lost_large)"
   ]
  },
  {
   "cell_type": "code",
   "execution_count": null,
   "metadata": {},
   "outputs": [],
   "source": [
    "scn = scenarios[1:2][0]\n",
    "## get entries where x_data_0 > 0 and per 1-digit ocupation \n",
    "## sum for each occupation\n",
    "decrease_demand_0 = np.zeros(10)\n",
    "increase_demand_0 = np.zeros(10)\n",
    "for onedigit_occ in range(10):\n",
    "#     print(onedigit_occ)\n",
    "    increase_demand_0[onedigit_occ] = np.sum(np.array((scenario_dict_norm_to_bl[scn].loc[2030] - \n",
    "                           scenario_dict_norm_to_bl['Cen2BAseq'].loc[2030]).iloc[large_occs].values)[\n",
    "            list(np.where((results_df_large_occs_only['occ_1']==onedigit_occ)&(\n",
    "                results_df_large_occs_only['x_agr']>0))[0])])\n",
    "    \n",
    "    decrease_demand_0[onedigit_occ] = np.sum(np.array((scenario_dict_norm_to_bl[scn].loc[2030] - \n",
    "                           scenario_dict_norm_to_bl['Cen2BAseq'].loc[2030]).iloc[large_occs].values)[\n",
    "            list(np.where((results_df_large_occs_only['occ_1']==onedigit_occ)&(\n",
    "                results_df_large_occs_only['x_agr']<0))[0])])"
   ]
  },
  {
   "cell_type": "code",
   "execution_count": null,
   "metadata": {},
   "outputs": [],
   "source": [
    "save = True"
   ]
  },
  {
   "cell_type": "code",
   "execution_count": null,
   "metadata": {},
   "outputs": [],
   "source": [
    "f, ax = plt.subplots(figsize=(3,2.5))\n",
    "# f.set_figwidth(2.5)\n",
    "\n",
    "ax.barh(np.array(range(1,10)), increase_demand_0[row_idxs.iloc[::-1]][:9], color='tab:blue', zorder=2)\n",
    "ax.barh(np.array(range(1,10)), decrease_demand_0[row_idxs.iloc[::-1]][:9], color='tab:red', zorder=2)\n",
    "\n",
    "# ax.set_title('Agriculture growth path')\n",
    "ax.set_xlabel('Total increase and decrease\\nin jobs from 2018 to 2030\\nper occupational group', fontsize=10)\n",
    "ax.set_yticks(np.array(range(1,10)), '', fontsize=10)\n",
    "\n",
    "# ax.set_xscale('symlog')\n",
    "ylim = ax.get_ylim()\n",
    "ax.plot([0,0],[0,10], linewidth=0.5, c='black')\n",
    "ax.set_ylim(ylim)\n",
    "ax.grid(which='both', zorder=0)\n",
    "\n",
    "\n",
    "xticks_major = np.arange(-2e6, 3.1e6, 1e6)\n",
    "plt.xticks(xticks_major)\n",
    "ax.xaxis.set_major_locator(plt.MultipleLocator(1000000))\n",
    "ax.xaxis.set_minor_locator(plt.MultipleLocator(500000))\n",
    "\n",
    "\n",
    "\n",
    "# ax.yaxis.set_major_locator(plt.MultipleLocator(1))\n",
    "t = ax.xaxis.get_offset_text()\n",
    "t.set_x(1.1)\n",
    "\n",
    "\n",
    "\n",
    "if save == True:\n",
    "    plt.savefig('figures/labour_demand_agr.pdf', bbox_inches='tight')\n",
    "    plt.savefig('figures/labour_demand_agr.png', bbox_inches='tight')\n",
    "\n",
    "plt.show()"
   ]
  },
  {
   "cell_type": "code",
   "execution_count": null,
   "metadata": {},
   "outputs": [],
   "source": [
    "scn = scenarios[2:3][0]\n",
    "## get entries where x_data_0 > 0 and per 1-digit ocupation \n",
    "## sum for each occupation\n",
    "decrease_demand = np.zeros(10)\n",
    "increase_demand = np.zeros(10)\n",
    "for onedigit_occ in range(0,10):\n",
    "#     print(onedigit_occ)\n",
    "    increase_demand[onedigit_occ] = np.sum(np.array((scenario_dict_norm_to_bl[scn].loc[2030] - \n",
    "                           scenario_dict_norm_to_bl['Cen2BAseq'].loc[2030]).iloc[large_occs].values)[\n",
    "            list(np.where((results_df_large_occs_only['occ_1']==onedigit_occ)&(\n",
    "                results_df_large_occs_only['x_manuf']>0))[0])])\n",
    "    \n",
    "    decrease_demand[onedigit_occ] = np.sum(np.array((scenario_dict_norm_to_bl[scn].loc[2030] - \n",
    "                           scenario_dict_norm_to_bl['Cen2BAseq'].loc[2030]).iloc[large_occs].values)[\n",
    "            list(np.where((results_df_large_occs_only['occ_1']==onedigit_occ)&(\n",
    "                results_df_large_occs_only['x_manuf']<0))[0])])"
   ]
  },
  {
   "cell_type": "code",
   "execution_count": null,
   "metadata": {},
   "outputs": [],
   "source": [
    "cbo_1"
   ]
  },
  {
   "cell_type": "code",
   "execution_count": null,
   "metadata": {},
   "outputs": [],
   "source": [
    "f, ax = plt.subplots(figsize=(3,2.5))\n",
    "\n",
    "\n",
    "ax.barh(np.array(range(1,10)), increase_demand[row_idxs.iloc[::-1]][:9], color='tab:blue', zorder=2)\n",
    "ax.barh(np.array(range(1,10)), decrease_demand[row_idxs.iloc[::-1]][:9], color='tab:red', zorder=2)\n",
    "\n",
    "# ax.set_title('Manufacturing growth path')\n",
    "ax.set_xlabel('Total increase and decrease\\nin jobs from 2018 to 2030\\nper occupational group', fontsize=10)\n",
    "ax.set_yticks(np.array(range(1,10)), cbo_1['TITLE_short'][row_idxs.iloc[::-1]][:9])\n",
    "# ax.set_xscale('symlog')\n",
    "ylim = ax.get_ylim()\n",
    "ax.plot([0,0],[0,10], linewidth=0.5, c='black')\n",
    "ax.set_ylim(ylim)\n",
    "ax.grid(which='both', zorder=0)\n",
    "\n",
    "# ax.xaxis.set_major_locator(plt.MultipleLocator(200000))\n",
    "# ax.yaxis.set_major_locator(plt.MultipleLocator(1))\n",
    "\n",
    "# ax.xaxis.set_minor_locator(plt.MultipleLocator(100000))\n",
    "\n",
    "\n",
    "xticks_major = np.arange(-500000, 500001, 500000)\n",
    "plt.xticks(xticks_major)\n",
    "# plt.ticklabel_format(axis='x', style='sci',scilimits=(6,8))\n",
    "\n",
    "\n",
    "if save == True:\n",
    "    plt.savefig('figures/labour_demand_manuf.pdf', bbox_inches='tight')\n",
    "    plt.savefig('figures/labour_demand_manuf.png', bbox_inches='tight')\n",
    "\n",
    "plt.show()"
   ]
  },
  {
   "cell_type": "code",
   "execution_count": null,
   "metadata": {},
   "outputs": [],
   "source": []
  },
  {
   "cell_type": "code",
   "execution_count": null,
   "metadata": {},
   "outputs": [],
   "source": []
  },
  {
   "cell_type": "code",
   "execution_count": null,
   "metadata": {},
   "outputs": [],
   "source": []
  },
  {
   "cell_type": "markdown",
   "metadata": {},
   "source": [
    "## Assortativity"
   ]
  },
  {
   "cell_type": "code",
   "execution_count": null,
   "metadata": {},
   "outputs": [],
   "source": [
    "occs_570 = np.sort(results_df['occ_code'].unique())"
   ]
  },
  {
   "cell_type": "code",
   "execution_count": null,
   "metadata": {},
   "outputs": [],
   "source": [
    "omng_occs = omng_df.copy()"
   ]
  },
  {
   "cell_type": "code",
   "execution_count": null,
   "metadata": {},
   "outputs": [],
   "source": [
    "omng_occs.index = ([occ[:4] for occ in list(omng_df.index)])\n",
    "omng_occs.columns = ([occ[:4] for occ in list(omng_df.index)])"
   ]
  },
  {
   "cell_type": "code",
   "execution_count": null,
   "metadata": {},
   "outputs": [],
   "source": [
    "omng_occs"
   ]
  },
  {
   "cell_type": "code",
   "execution_count": null,
   "metadata": {},
   "outputs": [],
   "source": [
    "omng_occs = omng_occs.groupby(omng_occs.index).sum()"
   ]
  },
  {
   "cell_type": "code",
   "execution_count": null,
   "metadata": {},
   "outputs": [],
   "source": [
    "omng_occs = omng_occs.T.groupby(omng_occs.T.index).sum()"
   ]
  },
  {
   "cell_type": "code",
   "execution_count": null,
   "metadata": {},
   "outputs": [],
   "source": [
    "omng_occs"
   ]
  },
  {
   "cell_type": "code",
   "execution_count": null,
   "metadata": {},
   "outputs": [],
   "source": [
    "all(occs_570 == omng_occs.index)"
   ]
  },
  {
   "cell_type": "code",
   "execution_count": null,
   "metadata": {},
   "outputs": [],
   "source": [
    "occs_570_1digit = pd.DataFrame({'occ_1': [str(occ[0]) for occ in occs_570]})\n"
   ]
  },
  {
   "cell_type": "code",
   "execution_count": null,
   "metadata": {},
   "outputs": [],
   "source": [
    "# function that gives assortativity coefficient\n",
    "# Joris Bücker, R Maria del Rio-Chanona, Anton Pichler, Matthew C Ives, and J Doyne Farmer. \n",
    "# Employment dynamics in a rapid decarbonization of the US power sector. \n",
    "# Joule, 2025\n",
    "\n",
    "def delta_kron(i,j):\n",
    "    if i == j:\n",
    "        return 1\n",
    "    else:\n",
    "        return 0\n",
    "\n",
    "\n",
    "def assortativity_weighted_directed_v2(A, x):\n",
    "    \"\"\"\n",
    "    Computes assortativity coefficient for weighted and directed networks\n",
    "    A(np array): adjacency matrix of network\n",
    "    x(np array): nodes' attributes\n",
    "    \"\"\"\n",
    "    n = A.shape[0]\n",
    "    W = A.sum()\n",
    "    W_div = 1/W\n",
    "    # outstregth\n",
    "    s_plus = A.sum(axis=1)\n",
    "    # instrength\n",
    "    s_minus = A.sum(axis=0)\n",
    "    # average over in and out str\n",
    "    mu_plus = (s_plus * x).sum() * W_div\n",
    "    mu_minus = (s_minus * x).sum() * W_div\n",
    "    # naming covariance and sf for + and -\n",
    "    cov = 0\n",
    "    sd_plus = 0\n",
    "    sd_minus = 0\n",
    "    for i in range(n):\n",
    "        for j in range(n):\n",
    "            cov += A[i,j] * (x[i] - mu_plus) * (x[j] - mu_minus)\n",
    "            sd_plus += A[i,j] * (x[i] - mu_plus)** 2\n",
    "            sd_minus += A[i,j] * (x[i] - mu_minus)** 2\n",
    "    return cov / np.sqrt(sd_plus * sd_minus)\n",
    "\n"
   ]
  },
  {
   "cell_type": "code",
   "execution_count": null,
   "metadata": {},
   "outputs": [],
   "source": [
    "print(assortativity_weighted_directed_v2(np.array(omng_occs), occs_570_1digit['occ_1'].astype(int)))"
   ]
  },
  {
   "cell_type": "code",
   "execution_count": null,
   "metadata": {},
   "outputs": [],
   "source": [
    "print(assortativity_weighted_directed_v2(A_omn, results_df['occ_1'].astype(int)))"
   ]
  },
  {
   "cell_type": "code",
   "execution_count": null,
   "metadata": {},
   "outputs": [],
   "source": [
    "print(assortativity_weighted_directed_v2(A_omn, results_df['loc_code'].astype(int)))"
   ]
  },
  {
   "cell_type": "code",
   "execution_count": null,
   "metadata": {},
   "outputs": [],
   "source": [
    "## reg, occ, 1-digit network: 0.68, 0.50, 0.70"
   ]
  }
 ],
 "metadata": {
  "kernelspec": {
   "display_name": "Python 3 (ipykernel)",
   "language": "python",
   "name": "python3"
  },
  "language_info": {
   "codemirror_mode": {
    "name": "ipython",
    "version": 3
   },
   "file_extension": ".py",
   "mimetype": "text/x-python",
   "name": "python",
   "nbconvert_exporter": "python",
   "pygments_lexer": "ipython3",
   "version": "3.12.3"
  }
 },
 "nbformat": 4,
 "nbformat_minor": 2
}
